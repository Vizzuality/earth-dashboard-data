{
 "cells": [
  {
   "cell_type": "markdown",
   "metadata": {},
   "source": [
    "## Climate visualizations data"
   ]
  },
  {
   "cell_type": "markdown",
   "metadata": {},
   "source": [
    "## [Climate tipping points](https://www.nature.com/articles/d41586-019-03595-0)"
   ]
  },
  {
   "cell_type": "markdown",
   "metadata": {},
   "source": [
    "Sources:\n",
    "Climate tipping points\\ Greenland melting\\ Sea level rise\\ Impacts at 4ºC"
   ]
  },
  {
   "cell_type": "markdown",
   "metadata": {},
   "source": [
    "### Projected Emmissions of CO2\n",
    "Latest report is IPCC 2014 Fifth Assesment Report (AR5)\\\n",
    "Data for RCP4.5, RCP6.0, RCP8.5 (Representative concentration pathways) from the [IPCC data portal](https://tntcat.iiasa.ac.at:8743/RcpDb/dsd?Action=htmlpage&page=download)\\\n",
    "(We need temperature data, not emissions)"
   ]
  },
  {
   "cell_type": "code",
   "execution_count": 2,
   "metadata": {},
   "outputs": [],
   "source": [
    "import pandas as pd\n",
    "import matplotlib.pyplot as plt"
   ]
  },
  {
   "cell_type": "code",
   "execution_count": 574,
   "metadata": {},
   "outputs": [
    {
     "name": "stderr",
     "output_type": "stream",
     "text": [
      "/Users/tamarahuete/opt/anaconda3/lib/python3.7/site-packages/ipykernel_launcher.py:5: ParserWarning: Falling back to the 'python' engine because the 'c' engine does not support regex separators (separators > 1 char and different from '\\s+' are interpreted as regex); you can avoid this warning by specifying engine='python'.\n",
      "  \"\"\"\n",
      "/Users/tamarahuete/opt/anaconda3/lib/python3.7/site-packages/ipykernel_launcher.py:11: ParserWarning: Falling back to the 'python' engine because the 'c' engine does not support regex separators (separators > 1 char and different from '\\s+' are interpreted as regex); you can avoid this warning by specifying engine='python'.\n",
      "  # This is added back by InteractiveShellApp.init_path()\n",
      "/Users/tamarahuete/opt/anaconda3/lib/python3.7/site-packages/ipykernel_launcher.py:16: ParserWarning: Falling back to the 'python' engine because the 'c' engine does not support regex separators (separators > 1 char and different from '\\s+' are interpreted as regex); you can avoid this warning by specifying engine='python'.\n",
      "  app.launch_new_instance()\n"
     ]
    }
   ],
   "source": [
    "rcp4 =pd.read_csv(f\"../../../../../Earth_Dashboard/RCP45_MIDYR_CONC.DAT\" ,\n",
    "                  skiprows=39, usecols=[0,1,2,3],\n",
    "                  sep='     ',\n",
    "                  names=['YEARS','CO2EQ','KYOTO-CO2EQ','CO2']) #6 spaces\n",
    "\n",
    "\n",
    "rcp6 =pd.read_csv(f\"../../../../../Earth_Dashboard/RCP6_MIDYR_CONC.DAT\" ,\n",
    "                  skiprows=39, usecols=[0,1,2,3],\n",
    "                  sep='     ',\n",
    "                  names=['YEARS','CO2EQ','KYOTO-CO2EQ','CO2']) #6 spaces\n",
    "\n",
    "rcp8 =pd.read_csv(f\"../../../../../Earth_Dashboard/RCP85_MIDYR_CONC.DAT\" ,\n",
    "                  skiprows=39, usecols=[0,1,2,3],\n",
    "                  sep='     ',\n",
    "                  names=['YEARS','CO2EQ','KYOTO-CO2EQ','CO2']) #6 spaces\n",
    "\n",
    "### Data descriptions\n",
    "# 1. CO2EQ            - CO2 equivalence concentrations using CO2 radiative forcing relationship Q = 3.71/ln(2)*ln(C/278), aggregating all anthropogenic forcings, including greenhouse gases listed below (i.e. columns 3,4,5 and 8-35), and aerosols, trop. ozone etc. (not listed below).\n",
    "# 2. KYOTO-CO2EQ      - As column 1, but only aggregating greenhouse gases controlled under the Kyoto Protocol (columns 3,4,5 and 8-19).\n",
    "# 3. CO2              - Atmospheric CO2 concentrations"
   ]
  },
  {
   "cell_type": "code",
   "execution_count": 74,
   "metadata": {},
   "outputs": [
    {
     "data": {
      "image/png": "[encoded data removed]",
      "text/plain": [
       "<Figure size 360x360 with 1 Axes>"
      ]
     },
     "metadata": {
      "needs_background": "light"
     },
     "output_type": "display_data"
    }
   ],
   "source": [
    "import matplotlib.pyplot as plt\n",
    "fig, ax = plt.subplots(figsize=(5, 5))\n",
    "#rcp4.5\n",
    "ax.plot(rcp4[rcp4['YEARS'] < 2100].YEARS,rcp4[rcp4['YEARS'] < 2100].CO2EQ,color='yellow',linewidth=4)\n",
    "\n",
    "#rcp6\n",
    "ax.plot(rcp6[rcp6['YEARS'] < 2100].YEARS,rcp6[rcp6['YEARS'] < 2100].CO2EQ,color='orange',linewidth=4)\n",
    "\n",
    "#rcp8.5\n",
    "ax.plot(rcp8[rcp8['YEARS'] < 2100].YEARS,rcp8[rcp8['YEARS'] < 2100].CO2EQ,color='red',linewidth=4)\n",
    "\n",
    "plt.show()"
   ]
  },
  {
   "cell_type": "markdown",
   "metadata": {},
   "source": [
    "### Historical temperature from RW data\n",
    "Dataset id= 'c8a973d1-7600-4950-aded-9ef74cfe3080'"
   ]
  },
  {
   "cell_type": "code",
   "execution_count": 1,
   "metadata": {},
   "outputs": [],
   "source": [
    "temp =pd.read_csv(f\"../../../../../Earth_Dashboard/temperature_rise.csv\").drop(columns='Unnamed: 0')\n",
    "temp['x'] =pd.to_datetime(temp['x']).dt.year #1880 - 2019"
   ]
  },
  {
   "cell_type": "code",
   "execution_count": 2,
   "metadata": {},
   "outputs": [
    {
     "data": {
      "text/plain": [
       "<Figure size 500x500 with 1 Axes>"
      ]
     },
     "metadata": {},
     "output_type": "display_data"
    }
   ],
   "source": [
    "fig, ax = plt.subplots(figsize=(5, 5))\n",
    "#rcp4.5\n",
    "ax.plot(temp.x,temp.y,color='steelblue',linewidth=4)\n",
    "plt.show()"
   ]
  },
  {
   "cell_type": "markdown",
   "metadata": {},
   "source": [
    "### Get climate data from [World data Bank](https://climateknowledgeportal.worldbank.org/download-data#)\n",
    "The Climate Change portal has data of historical temperature as well as projections for each of the 4 scenarios (2.6,4.5,6,8.5) by country for block of 20 years (2020-2039, 2040-2059, 2060-2079, 2080-2099). The data has the results for each model and the ensembles, which considers the avergae anomaly of the 35 models. The approach followed is to download the data of each country for a given scenario, add a weight according to the surface of the country with respect to the total terrestrial surface (the sum of all the countries considered) and make a weighed average for each ensemble (10th percentile, 50th percentil and 90th percentile)"
   ]
  },
  {
   "cell_type": "markdown",
   "metadata": {},
   "source": [
    "### 1. Country areas"
   ]
  },
  {
   "cell_type": "code",
   "execution_count": 7,
   "metadata": {},
   "outputs": [],
   "source": [
    "#land area km2\n",
    "land =pd.read_csv(f\"../../../Earth_Dashboard/API_AG.LND.TOTL.K2_DS2_en_csv_v2_1496978.csv\",skiprows=4)\n",
    "land.head()\n",
    "area_2018 =land[['Country Name','Country Code','2018']]"
   ]
  },
  {
   "cell_type": "code",
   "execution_count": 8,
   "metadata": {},
   "outputs": [
    {
     "name": "stderr",
     "output_type": "stream",
     "text": [
      "/Users/tamarahuete/opt/anaconda3/lib/python3.7/site-packages/ipykernel_launcher.py:2: SettingWithCopyWarning: \n",
      "A value is trying to be set on a copy of a slice from a DataFrame.\n",
      "Try using .loc[row_indexer,col_indexer] = value instead\n",
      "\n",
      "See the caveats in the documentation: https://pandas.pydata.org/pandas-docs/stable/user_guide/indexing.html#returning-a-view-versus-a-copy\n",
      "  \n"
     ]
    },
    {
     "data": {
      "text/html": [
       "<div>\n",
       "<style scoped>\n",
       "    .dataframe tbody tr th:only-of-type {\n",
       "        vertical-align: middle;\n",
       "    }\n",
       "\n",
       "    .dataframe tbody tr th {\n",
       "        vertical-align: top;\n",
       "    }\n",
       "\n",
       "    .dataframe thead th {\n",
       "        text-align: right;\n",
       "    }\n",
       "</style>\n",
       "<table border=\"1\" class=\"dataframe\">\n",
       "  <thead>\n",
       "    <tr style=\"text-align: right;\">\n",
       "      <th></th>\n",
       "      <th>Country Name</th>\n",
       "      <th>Country Code</th>\n",
       "      <th>2018</th>\n",
       "      <th>Country_request</th>\n",
       "    </tr>\n",
       "  </thead>\n",
       "  <tbody>\n",
       "    <tr>\n",
       "      <th>0</th>\n",
       "      <td>Aruba</td>\n",
       "      <td>ABW</td>\n",
       "      <td>180.0</td>\n",
       "      <td>ABW/Aruba</td>\n",
       "    </tr>\n",
       "    <tr>\n",
       "      <th>1</th>\n",
       "      <td>Afghanistan</td>\n",
       "      <td>AFG</td>\n",
       "      <td>652860.0</td>\n",
       "      <td>AFG/Afghanistan</td>\n",
       "    </tr>\n",
       "    <tr>\n",
       "      <th>2</th>\n",
       "      <td>Angola</td>\n",
       "      <td>AGO</td>\n",
       "      <td>1246700.0</td>\n",
       "      <td>AGO/Angola</td>\n",
       "    </tr>\n",
       "    <tr>\n",
       "      <th>3</th>\n",
       "      <td>Albania</td>\n",
       "      <td>ALB</td>\n",
       "      <td>27400.0</td>\n",
       "      <td>ALB/Albania</td>\n",
       "    </tr>\n",
       "    <tr>\n",
       "      <th>4</th>\n",
       "      <td>Andorra</td>\n",
       "      <td>AND</td>\n",
       "      <td>470.0</td>\n",
       "      <td>AND/Andorra</td>\n",
       "    </tr>\n",
       "    <tr>\n",
       "      <th>...</th>\n",
       "      <td>...</td>\n",
       "      <td>...</td>\n",
       "      <td>...</td>\n",
       "      <td>...</td>\n",
       "    </tr>\n",
       "    <tr>\n",
       "      <th>258</th>\n",
       "      <td>Samoa</td>\n",
       "      <td>WSM</td>\n",
       "      <td>2830.0</td>\n",
       "      <td>WSM/Samoa</td>\n",
       "    </tr>\n",
       "    <tr>\n",
       "      <th>260</th>\n",
       "      <td>Yemen, Rep.</td>\n",
       "      <td>YEM</td>\n",
       "      <td>527970.0</td>\n",
       "      <td>YEM/Yemen, Rep.</td>\n",
       "    </tr>\n",
       "    <tr>\n",
       "      <th>261</th>\n",
       "      <td>South Africa</td>\n",
       "      <td>ZAF</td>\n",
       "      <td>1213090.0</td>\n",
       "      <td>ZAF/South Africa</td>\n",
       "    </tr>\n",
       "    <tr>\n",
       "      <th>262</th>\n",
       "      <td>Zambia</td>\n",
       "      <td>ZMB</td>\n",
       "      <td>743390.0</td>\n",
       "      <td>ZMB/Zambia</td>\n",
       "    </tr>\n",
       "    <tr>\n",
       "      <th>263</th>\n",
       "      <td>Zimbabwe</td>\n",
       "      <td>ZWE</td>\n",
       "      <td>386850.0</td>\n",
       "      <td>ZWE/Zimbabwe</td>\n",
       "    </tr>\n",
       "  </tbody>\n",
       "</table>\n",
       "<p>256 rows × 4 columns</p>\n",
       "</div>"
      ],
      "text/plain": [
       "     Country Name Country Code       2018   Country_request\n",
       "0           Aruba          ABW      180.0         ABW/Aruba\n",
       "1     Afghanistan          AFG   652860.0   AFG/Afghanistan\n",
       "2          Angola          AGO  1246700.0        AGO/Angola\n",
       "3         Albania          ALB    27400.0       ALB/Albania\n",
       "4         Andorra          AND      470.0       AND/Andorra\n",
       "..            ...          ...        ...               ...\n",
       "258         Samoa          WSM     2830.0         WSM/Samoa\n",
       "260   Yemen, Rep.          YEM   527970.0   YEM/Yemen, Rep.\n",
       "261  South Africa          ZAF  1213090.0  ZAF/South Africa\n",
       "262        Zambia          ZMB   743390.0        ZMB/Zambia\n",
       "263      Zimbabwe          ZWE   386850.0      ZWE/Zimbabwe\n",
       "\n",
       "[256 rows x 4 columns]"
      ]
     },
     "execution_count": 8,
     "metadata": {},
     "output_type": "execute_result"
    }
   ],
   "source": [
    "## ISO3 codes for request\n",
    "area_2018['Country_request'] = area_2018.apply(lambda x: f'{x[\"Country Code\"]}/{x[\"Country Name\"]}',axis=1)\n",
    "area_2018 =area_2018.dropna()\n",
    "area_2018"
   ]
  },
  {
   "cell_type": "markdown",
   "metadata": {},
   "source": [
    "### 2. Temperature data"
   ]
  },
  {
   "cell_type": "code",
   "execution_count": null,
   "metadata": {},
   "outputs": [],
   "source": [
    "## PROJECTION SCENARIOS\n",
    "## Ensemble values were calculated from the anomalies from each of the models in the collection, \n",
    "## and for every 20-year climatological period in the future. These ensembles describe how the \n",
    "## collection of up to 35 CMIP5 models on average project the climatological changes\n",
    "## https://climateknowledgeportal.worldbank.org/themes/custom/wb_cckp/resources/data/CCKP_Metadata_Description_2018.pdf\n",
    "\n",
    "import requests\n",
    "import json\n",
    "import io\n",
    "\n",
    "years=['2020_2039','2040_2059','2060_2079','2080_2099']\n",
    "country_list = list(area_2018['Country_request'])\n",
    "onecountry = pd.DataFrame()\n",
    "\n",
    "for country in country_list:\n",
    "    for year in years:\n",
    "        try:\n",
    "            # Get data from World Data Bank API\n",
    "            #url = f'https://climateknowledgeportal.worldbank.org/api/data/get-download-data/projection/mavg/tas/rcp85/{year}/{country}'\n",
    "            url = f'https://climateknowledgeportal.worldbank.org/api/data/get-download-data/projection/mavg/tas/rcp60/{year}/{country}'\n",
    "            urlData = requests.get(url).content\n",
    "            rawData = pd.read_csv(io.StringIO(urlData.decode('utf-8')))\n",
    "            \n",
    "            # Select models (Ensemble)\n",
    "            ensembles = [' Ensemble (10th Percentile)',' Ensemble (50th Percentile)',' Ensemble (90th Percentile)']\n",
    "            rawData = rawData[rawData[' Model'].isin(ensembles)] \n",
    "            \n",
    "            # Get annual mean\n",
    "            avgModel =rawData.groupby(' Model').mean()\n",
    "            avgModel.rename(columns={'Temperature - (Celsius)':'TempC'})\n",
    "            avgModel['Year']=rawData[' Year'].unique()[0]\n",
    "            avgModel['ISO3']=rawData[' ISO3'].unique()[0]\n",
    "            avgModel['top_year']= year[-4:]\n",
    "            \n",
    "            # Add to general table\n",
    "            onecountry = onecountry.append(avgModel) \n",
    "        except:\n",
    "            print(f'{country} not in World data Bank')  "
   ]
  },
  {
   "cell_type": "code",
   "execution_count": 613,
   "metadata": {},
   "outputs": [],
   "source": [
    "# Save file\n",
    "onecountry = onecountry.reset_index()\n",
    "onecountry.to_csv(f\"../../../../../Earth_Dashboard/temperature_projections_WDB_RCP60.csv\")"
   ]
  },
  {
   "cell_type": "markdown",
   "metadata": {},
   "source": [
    "### 3. Weighed mean for each period considering each countries area"
   ]
  },
  {
   "cell_type": "code",
   "execution_count": 5,
   "metadata": {},
   "outputs": [],
   "source": [
    "#onecountry= pd.read_csv(f\"../../../Earth_Dashboard/temperature_projections_WDB_RCP85.csv\")\n",
    "onecountry= pd.read_csv(f\"../../../Earth_Dashboard/temperature_projections_WDB_RCP60.csv\")"
   ]
  },
  {
   "cell_type": "code",
   "execution_count": 9,
   "metadata": {},
   "outputs": [
    {
     "name": "stdout",
     "output_type": "stream",
     "text": [
      "Climate data has 195 countries\n",
      "Area data has 256 countries\n",
      "The missing countries are 61\n",
      "Both datasets have 195 in common\n"
     ]
    }
   ],
   "source": [
    "# Match the countries in both datasets\n",
    "print(f'Climate data has {len(onecountry.ISO3.unique())} countries') #197\n",
    "print(f'Area data has {len(area_2018)} countries')\n",
    "onecountry['ISO3'] = onecountry.apply(lambda x: f'{x[\"ISO3\"][-3:]}',axis=1)\n",
    "print(f'The missing countries are {len(set(area_2018[\"Country Code\"].unique())-(set(onecountry.ISO3.unique())))}')  \n",
    "print(f'Both datasets have {len(set(area_2018[\"Country Code\"].unique()) & (set(onecountry.ISO3.unique())))} in common')  "
   ]
  },
  {
   "cell_type": "code",
   "execution_count": 627,
   "metadata": {},
   "outputs": [],
   "source": [
    "# | union : elements in one or both of the sets\n",
    "# & intersection : only elements common to both sets\n",
    "# - difference : elements in the left hand set that are not in the right hand set\n",
    "# ^ symmetric difference : elements in either set but not in both."
   ]
  },
  {
   "cell_type": "code",
   "execution_count": 10,
   "metadata": {},
   "outputs": [
    {
     "data": {
      "text/plain": [
       "195"
      ]
     },
     "execution_count": 10,
     "metadata": {},
     "output_type": "execute_result"
    }
   ],
   "source": [
    "# Filter areas (eliminate non matching countries)\n",
    "area_2018_fil = area_2018[area_2018[\"Country Code\"].isin(onecountry.ISO3.unique())]\n",
    "set(onecountry.ISO3.unique()) - set(area_2018_fil[\"Country Code\"].unique())\n",
    "onecountry=onecountry[~onecountry['ISO3'].isin(['MCO','SDN'])]\n",
    "len(onecountry.ISO3.unique()) #195\n",
    "area_2018_fil = area_2018[area_2018[\"Country Code\"].isin(onecountry.ISO3.unique())]\n",
    "len(area_2018_fil[\"Country Code\"].unique()) #195"
   ]
  },
  {
   "cell_type": "code",
   "execution_count": 11,
   "metadata": {},
   "outputs": [
    {
     "name": "stderr",
     "output_type": "stream",
     "text": [
      "/Users/tamarahuete/opt/anaconda3/lib/python3.7/site-packages/ipykernel_launcher.py:4: SettingWithCopyWarning: \n",
      "A value is trying to be set on a copy of a slice from a DataFrame.\n",
      "Try using .loc[row_indexer,col_indexer] = value instead\n",
      "\n",
      "See the caveats in the documentation: https://pandas.pydata.org/pandas-docs/stable/user_guide/indexing.html#returning-a-view-versus-a-copy\n",
      "  after removing the cwd from sys.path.\n"
     ]
    },
    {
     "data": {
      "text/plain": [
       "1.0"
      ]
     },
     "execution_count": 11,
     "metadata": {},
     "output_type": "execute_result"
    }
   ],
   "source": [
    "# Get a weiged value for each country based on their area \n",
    "# Assumption: the total terrestrial area is the sum of all area and the weight is country_area/total_area\n",
    "area_2018_fil\n",
    "area_2018_fil['weight']= area_2018_fil[\"2018\"]/(area_2018_fil[\"2018\"].sum())\n",
    "area_2018_fil.weight.sum()"
   ]
  },
  {
   "cell_type": "code",
   "execution_count": 12,
   "metadata": {},
   "outputs": [],
   "source": [
    "#Sum of variables(weight)/sum of all weights = weighted average.\n",
    "onecountry['weight']= 0\n",
    "for country in onecountry.ISO3.unique():  \n",
    "    onecountry.loc[onecountry['ISO3'] ==country,'weight'] = list(area_2018_fil[area_2018_fil[\"Country Code\"]==country]['weight'])[0]                                                                                                                        "
   ]
  },
  {
   "cell_type": "code",
   "execution_count": 13,
   "metadata": {},
   "outputs": [],
   "source": [
    "# Add weight to Climate dataset and calculate weighed mean\n",
    "import numpy as np\n",
    "wmean = pd.DataFrame()\n",
    "ensembles = [' Ensemble (10th Percentile)',' Ensemble (50th Percentile)',' Ensemble (90th Percentile)']\n",
    "years=[2039,2059,2079,2099]\n",
    "for  model in ensembles:\n",
    "    for year in years:\n",
    "        values = list(onecountry.loc[(onecountry[' Model'] == model) & (onecountry['top_year'].astype(int) == year),'Monthly Temperature - (Celsius)'])\n",
    "        weights = list(onecountry.loc[(onecountry[' Model'] == model) & (onecountry['top_year'].astype(int) == year),'weight'])\n",
    "        weighted_average = sum(weight * value for weight, value in zip(weights, values)) / sum(weights)\n",
    "        wmean = wmean.append([(model,year,weighted_average)])\n",
    "wmean = wmean.rename(columns={wmean.columns[0]:'model',wmean.columns[1]:'year',wmean.columns[2]:'wavg_terrestrial_C'})"
   ]
  },
  {
   "cell_type": "markdown",
   "metadata": {},
   "source": [
    "### 4. Merge with historical data and interpolate"
   ]
  },
  {
   "cell_type": "code",
   "execution_count": 14,
   "metadata": {},
   "outputs": [],
   "source": [
    "### Merge with historical data\n",
    "temp =pd.read_csv(f\"../../../Earth_Dashboard/temperature_rise.csv\").drop(columns='Unnamed: 0')\n",
    "temp['x'] =pd.to_datetime(temp['x']).dt.year #1880 - 2019"
   ]
  },
  {
   "cell_type": "code",
   "execution_count": 15,
   "metadata": {},
   "outputs": [],
   "source": [
    "### Interpolate using the last value of 2019\n",
    "last_historical =[pd.Series([' Ensemble (90th Percentile)', 2019 , temp.loc[temp['x']==2019,'y'].values[0]],index=wmean.columns),\n",
    "                  pd.Series([' Ensemble (10th Percentile)', 2019 , temp.loc[temp['x']==2019,'y'].values[0]],index=wmean.columns),\n",
    "                  pd.Series([' Ensemble (50th Percentile)', 2019 , temp.loc[temp['x']==2019,'y'].values[0]],index=wmean.columns)]\n",
    "\n",
    "projections = wmean\n",
    "projections = projections.append(last_historical,ignore_index=True)\n",
    "projections = projections.sort_values('year')\n",
    "init_year =2019\n",
    "end_year=2090\n",
    "new_x = np.linspace(init_year, end_year, (end_year-init_year)+1)\n",
    "interp = pd.DataFrame()\n",
    "for model in ensembles:\n",
    "    new_y = np.interp(new_x, \n",
    "                  [2019,2030,2050,2070,2090], \n",
    "                  projections.loc[projections['model']==model,'wavg_terrestrial_C'])\n",
    "    new =pd.DataFrame({'year': new_x, 'temp': new_y,'model':model})\n",
    "    interp= interp.append(new)"
   ]
  },
  {
   "cell_type": "code",
   "execution_count": 32,
   "metadata": {},
   "outputs": [
    {
     "data": {
      "image/png": "[encoded data removed]",
      "text/plain": [
       "<Figure size 360x360 with 1 Axes>"
      ]
     },
     "metadata": {
      "needs_background": "light"
     },
     "output_type": "display_data"
    }
   ],
   "source": [
    "fig, ax = plt.subplots(figsize=(5, 5))\n",
    "#historical\n",
    "ax.plot(temp.x,temp.y,color='steelblue',linewidth=2)\n",
    "#8.5 RCP AR5\n",
    "ax.plot(interp.loc[interp['model']==' Ensemble (50th Percentile)','year'],\n",
    "        interp.loc[interp['model']==' Ensemble (50th Percentile)','temp'],\n",
    "        color='steelblue',linewidth=2)\n",
    "ax.plot(interp.loc[(interp['model']==' Ensemble (10th Percentile)') & (interp['year']> 2029),'year'],\n",
    "        interp.loc[(interp['model']==' Ensemble (10th Percentile)') & (interp['year']> 2029),'temp'],\n",
    "        color='lightgray',linewidth=2)\n",
    "ax.plot(interp.loc[(interp['model']==' Ensemble (90th Percentile)') & (interp['year']> 2029),'year'],\n",
    "        interp.loc[(interp['model']==' Ensemble (90th Percentile)') & (interp['year']> 2029),'temp'],\n",
    "        color='lightgray',linewidth=2)\n",
    "plt.show()\n",
    "fig.savefig(f'../../../Earth_Dashboard/temperature_projections_6.0_square.svg',dpi=300,transparent=True,format='svg')"
   ]
  },
  {
   "cell_type": "markdown",
   "metadata": {},
   "source": [
    "### 5. Calculate the temperature from interpolations"
   ]
  },
  {
   "cell_type": "code",
   "execution_count": 19,
   "metadata": {},
   "outputs": [
    {
     "name": "stdout",
     "output_type": "stream",
     "text": [
      "Tipping points IPCC AR5 2014 RCP6.0 from 35 model ensembles\n",
      "\n",
      "In 2020 we reached 1ºC increase that implies:\n",
      "17% loss of Amazon forests\n",
      "Permafrost across the Arctic is beginning to irreversibly thaw and release carbon dioxide and methane\n",
      "West Antarctica ice sheet melting possibly past tipping point\n",
      "Wilkes Basin in East Antarctica ice sheet melting possibly past tipping point\n",
      "Atlantic Meridional Overturning Circulation (AMOC) weakened by about 15 percent since 1975\n",
      "\n",
      "In 2046.0 we will reach 1.5ºC increase that implies:\n",
      "Greenland ice sheet completely melts\n",
      "\n",
      "In 2064.0 we will reach 2ºC increase that implies:\n",
      "10–35% of Antarctica is ice-free in summer\n",
      "99% of tropical corals are lost\n",
      "\n",
      "In 2035 we will reach 1.15 increase that implies:\n",
      "Amazon rainforest will become a net carbon emitter\n",
      "\n",
      "In 2050 we will reach 1.56 increase that implies:\n",
      "40% of Amazon tree cover is lost: when the dry season becomes longer than four months, tropical forests turns to savanna\n",
      "\n",
      "In 2100 we will reach 2.57 increase that implies:\n",
      "Sea level will rise between 0.3-2.4 m\n",
      "\n",
      "In 2030 we will reach 1.02\n",
      "In 2040 we will reach 1.29\n",
      "In 2050 we will reach 1.56\n",
      "In 2060 we will reach 1.89\n",
      "In 2070 we will reach 2.22\n",
      "In 2080 we will reach 2.57\n"
     ]
    }
   ],
   "source": [
    "print(f'Tipping points IPCC AR5 2014 RCP6.0 from 35 model ensembles')\n",
    "print(f'')\n",
    "print(f'In 2020 we reached 1ºC increase that implies:')\n",
    "print(f'17% loss of Amazon forests')\n",
    "print(f'Permafrost across the Arctic is beginning to irreversibly thaw and release carbon dioxide and methane')\n",
    "print(f'West Antarctica ice sheet melting possibly past tipping point')\n",
    "print(f'Wilkes Basin in East Antarctica ice sheet melting possibly past tipping point')\n",
    "print(f'Atlantic Meridional Overturning Circulation (AMOC) weakened by about 15 percent since 1975')\n",
    "print(f'')\n",
    "print(f'In {interp.loc[(interp[\"temp\"]>1.45) & (interp[\"temp\"]<1.55) & (interp[\"model\"] == \" Ensemble (50th Percentile)\"),\"year\"].values[0]} we will reach 1.5ºC increase that implies:')\n",
    "print(f'Greenland ice sheet completely melts')\n",
    "print(f'')\n",
    "print(f'In {interp.loc[(interp[\"temp\"]>1.99) & (interp[\"temp\"]<2.1) & (interp[\"model\"] == \" Ensemble (50th Percentile)\"),\"year\"].values[0]} we will reach 2ºC increase that implies:')\n",
    "print(f'10–35% of Antarctica is ice-free in summer')\n",
    "print(f'99% of tropical corals are lost')\n",
    "print(f'')\n",
    "print(f'In 2035 we will reach {round(interp.loc[(interp[\"year\"]== 2035) & (interp[\"model\"] == \" Ensemble (50th Percentile)\"),\"temp\"].values[0],2)} increase that implies:')\n",
    "print(f'Amazon rainforest will become a net carbon emitter')\n",
    "print(f'')\n",
    "print(f'In 2050 we will reach {round(interp.loc[(interp[\"year\"]== 2050) & (interp[\"model\"] == \" Ensemble (50th Percentile)\"),\"temp\"].values[0],2)} increase that implies:')\n",
    "print(f'40% of Amazon tree cover is lost: when the dry season becomes longer than four months, tropical forests turns to savanna')\n",
    "print(f'')\n",
    "print(f'In 2100 we will reach {round(interp.loc[(interp[\"year\"]== 2080) & (interp[\"model\"] == \" Ensemble (50th Percentile)\"),\"temp\"].values[0],2)} increase that implies:')\n",
    "print(f'Sea level will rise between 0.3-2.4 m')\n",
    "print(f'')\n",
    "print(f'In 2030 we will reach {round(interp.loc[(interp[\"year\"]== 2030) & (interp[\"model\"] == \" Ensemble (50th Percentile)\"),\"temp\"].values[0],2)}')\n",
    "print(f'In 2040 we will reach {round(interp.loc[(interp[\"year\"]== 2040) & (interp[\"model\"] == \" Ensemble (50th Percentile)\"),\"temp\"].values[0],2)}')\n",
    "print(f'In 2050 we will reach {round(interp.loc[(interp[\"year\"]== 2050) & (interp[\"model\"] == \" Ensemble (50th Percentile)\"),\"temp\"].values[0],2)}')\n",
    "print(f'In 2060 we will reach {round(interp.loc[(interp[\"year\"]== 2060) & (interp[\"model\"] == \" Ensemble (50th Percentile)\"),\"temp\"].values[0],2)}')\n",
    "print(f'In 2070 we will reach {round(interp.loc[(interp[\"year\"]== 2070) & (interp[\"model\"] == \" Ensemble (50th Percentile)\"),\"temp\"].values[0],2)}')\n",
    "print(f'In 2080 we will reach {round(interp.loc[(interp[\"year\"]== 2080) & (interp[\"model\"] == \" Ensemble (50th Percentile)\"),\"temp\"].values[0],2)}')"
   ]
  },
  {
   "cell_type": "code",
   "execution_count": 30,
   "metadata": {},
   "outputs": [
    {
     "name": "stdout",
     "output_type": "stream",
     "text": [
      "1.5ºC will be reached in 2046.0\n",
      "2ºC will be reached in 2064.0\n",
      "3ºC will be reached in 2089.0\n",
      "\n",
      "In 2030 we will reach 1.02º increase\n",
      "In 2040 we will reach 1.29º increase\n",
      "In 2050 we will reach 1.56º increase\n",
      "In 2060 we will reach 1.89º increase\n",
      "In 2070 we will reach 2.22º increase\n",
      "In 2080 we will reach 2.57º increase\n"
     ]
    }
   ],
   "source": [
    "#New narrative\n",
    "print (f'1.5ºC will be reached in {interp.loc[(interp[\"temp\"]>1.45) & (interp[\"temp\"]<1.55) & (interp[\"model\"] == \" Ensemble (50th Percentile)\"),\"year\"].values[0]}')\n",
    "print (f'2ºC will be reached in {interp.loc[(interp[\"temp\"]>1.99) & (interp[\"temp\"]<2.1) & (interp[\"model\"] == \" Ensemble (50th Percentile)\"),\"year\"].values[0]}')\n",
    "print (f'3ºC will be reached in {interp.loc[(interp[\"temp\"]>2.89) & (interp[\"temp\"]<3.1) & (interp[\"model\"] == \" Ensemble (50th Percentile)\"),\"year\"].values[0]}')\n",
    "\n",
    "print(f'')\n",
    "print(f'In 2030 we will reach {round(interp.loc[(interp[\"year\"]== 2030) & (interp[\"model\"] == \" Ensemble (50th Percentile)\"),\"temp\"].values[0],2)}º increase')\n",
    "print(f'In 2040 we will reach {round(interp.loc[(interp[\"year\"]== 2040) & (interp[\"model\"] == \" Ensemble (50th Percentile)\"),\"temp\"].values[0],2)}º increase')\n",
    "print(f'In 2050 we will reach {round(interp.loc[(interp[\"year\"]== 2050) & (interp[\"model\"] == \" Ensemble (50th Percentile)\"),\"temp\"].values[0],2)}º increase')\n",
    "print(f'In 2060 we will reach {round(interp.loc[(interp[\"year\"]== 2060) & (interp[\"model\"] == \" Ensemble (50th Percentile)\"),\"temp\"].values[0],2)}º increase')\n",
    "print(f'In 2070 we will reach {round(interp.loc[(interp[\"year\"]== 2070) & (interp[\"model\"] == \" Ensemble (50th Percentile)\"),\"temp\"].values[0],2)}º increase')\n",
    "print(f'In 2080 we will reach {round(interp.loc[(interp[\"year\"]== 2080) & (interp[\"model\"] == \" Ensemble (50th Percentile)\"),\"temp\"].values[0],2)}º increase')\n"
   ]
  },
  {
   "cell_type": "code",
   "execution_count": null,
   "metadata": {},
   "outputs": [],
   "source": []
  }
 ],
 "metadata": {
  "kernelspec": {
   "display_name": "Python 3",
   "language": "python",
   "name": "python3"
  },
  "language_info": {
   "codemirror_mode": {
    "name": "ipython",
    "version": 3
   },
   "file_extension": ".py",
   "mimetype": "text/x-python",
   "name": "python",
   "nbconvert_exporter": "python",
   "pygments_lexer": "ipython3",
   "version": "3.7.4"
  }
 },
 "nbformat": 4,
 "nbformat_minor": 4
}

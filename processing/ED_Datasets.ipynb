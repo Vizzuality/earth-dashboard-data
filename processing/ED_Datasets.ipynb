{
 "cells": [
  {
   "cell_type": "markdown",
   "metadata": {},
   "source": [
    "### Access to Earth Dashboard datasets\n",
    "#### Following this [spreadsheet](https://docs.google.com/spreadsheets/d/1EkKgllw0QIhSpV2J153ujtYdnKpJfGMS1cKcJJyO8O8/edit#gid=0), locate datasets ids and prepare querys when possible"
   ]
  },
  {
   "cell_type": "code",
   "execution_count": 1,
   "metadata": {},
   "outputs": [],
   "source": [
    "import json\n",
    "import requests\n",
    "from pprint import pprint\n",
    "import getpass\n",
    "import LMIPy as lmi\n",
    "import matplotlib.pyplot as plt\n",
    "%matplotlib inline"
   ]
  },
  {
   "cell_type": "markdown",
   "metadata": {},
   "source": [
    "**Get RW API token**"
   ]
  },
  {
   "cell_type": "code",
   "execution_count": 2,
   "metadata": {},
   "outputs": [],
   "source": [
    "def get_token(email):\n",
    "    api_url = 'http://api.resourcewatch.org'\n",
    "    password = getpass.getpass('Resource Watch login password:')\n",
    "\n",
    "    payload = {\n",
    "        \"email\": f\"{email}\",\n",
    "        \"password\": f\"{password}\"\n",
    "    }\n",
    "\n",
    "    url = f'{api_url}/auth/login'\n",
    "\n",
    "    headers = {'Content-Type': 'application/json'}\n",
    "\n",
    "    r = requests.post(url, data=json.dumps(payload), headers=headers)\n",
    "    \n",
    "    return r.json().get('data').get('token')"
   ]
  },
  {
   "cell_type": "code",
   "execution_count": 4,
   "metadata": {},
   "outputs": [
    {
     "name": "stdin",
     "output_type": "stream",
     "text": [
      "Resource Watch login password: ········\n"
     ]
    }
   ],
   "source": [
    "#token = get_token(email='iker.sanchez@vizzuality.com')\n",
    "token = get_token(email='tamara.huete@vizzuality.com')"
   ]
  },
  {
   "cell_type": "markdown",
   "metadata": {},
   "source": [
    "### 1. Climate\n",
    "#### 1A. Rising temperatures"
   ]
  },
  {
   "cell_type": "code",
   "execution_count": 6,
   "metadata": {},
   "outputs": [
    {
     "data": {
      "text/html": [
       "<div class='item_container' style='height: auto; overflow: hidden; border: 3px solid #2BA4A0;border-radius: 2px; background: #fff; line-height: 1.21429em; padding: 10px;''><div class='item_left' style='width: 210px; float: left;''><a href='https://resourcewatch.org/' target='_blank'><img class='itemThumbnail' src='https://resourcewatch.org/static/images/logo-embed.png'></a></div><div class='item_right' style='float: none; width: auto; hidden;padding-left: 10px; overflow: hidden;''><a href=https://api.resourcewatch.org/v1/dataset/917f1945-fff9-4b6f-8290-4f4b9417079e?includes=vocabulary,metadata,layer,widget target='_blank'><b>Dash_cli.044.nrt Global Land Temperature</b></a><br> Carto table: <a href=https://rw-nrt.carto.com/tables/cli_044_global_land_temperature/public target='_blank'>cli_044_global_land_temperature</a> | Dataset in RW.<br>Last Modified: 2020-06-17T21:51:02.850Z<br><a href='https://api.resourcewatch.org/v1/fields/917f1945-fff9-4b6f-8290-4f4b9417079e' target='_blank'>Fields</a> Connector: cartodb | Published: False </div> </div>"
      ],
      "text/plain": [
       "Dataset 917f1945-fff9-4b6f-8290-4f4b9417079e Dash_cli.044.nrt Global Land Temperature"
      ]
     },
     "execution_count": 6,
     "metadata": {},
     "output_type": "execute_result"
    }
   ],
   "source": [
    "# Global temperature\n",
    "d = lmi.Dataset('917f1945-fff9-4b6f-8290-4f4b9417079e')\n",
    "d"
   ]
  },
  {
   "cell_type": "code",
   "execution_count": 19,
   "metadata": {},
   "outputs": [],
   "source": [
    "t =lmi.Table('917f1945-fff9-4b6f-8290-4f4b9417079e')"
   ]
  },
  {
   "cell_type": "code",
   "execution_count": 20,
   "metadata": {},
   "outputs": [
    {
     "name": "stdout",
     "output_type": "stream",
     "text": [
      "https://api.resourcewatch.org/v1/query/917f1945-fff9-4b6f-8290-4f4b9417079e?sql=SELECT%20*%20FROM%20cli_044_global_land_temperature%20LIMIT%205\n"
     ]
    },
    {
     "data": {
      "text/html": [
       "<div>\n",
       "<style scoped>\n",
       "    .dataframe tbody tr th:only-of-type {\n",
       "        vertical-align: middle;\n",
       "    }\n",
       "\n",
       "    .dataframe tbody tr th {\n",
       "        vertical-align: top;\n",
       "    }\n",
       "\n",
       "    .dataframe thead th {\n",
       "        text-align: right;\n",
       "    }\n",
       "</style>\n",
       "<table border=\"1\" class=\"dataframe\">\n",
       "  <thead>\n",
       "    <tr style=\"text-align: right;\">\n",
       "      <th></th>\n",
       "      <th>cartodb_id</th>\n",
       "      <th>the_geom</th>\n",
       "      <th>the_geom_webmercator</th>\n",
       "      <th>date</th>\n",
       "      <th>no_smoothing</th>\n",
       "      <th>lowess_5_smoothing</th>\n",
       "    </tr>\n",
       "  </thead>\n",
       "  <tbody>\n",
       "    <tr>\n",
       "      <th>0</th>\n",
       "      <td>141</td>\n",
       "      <td>None</td>\n",
       "      <td>None</td>\n",
       "      <td>1880-12-31T00:00:00Z</td>\n",
       "      <td>-0.16</td>\n",
       "      <td>-0.08</td>\n",
       "    </tr>\n",
       "    <tr>\n",
       "      <th>1</th>\n",
       "      <td>142</td>\n",
       "      <td>None</td>\n",
       "      <td>None</td>\n",
       "      <td>1881-12-31T00:00:00Z</td>\n",
       "      <td>-0.07</td>\n",
       "      <td>-0.12</td>\n",
       "    </tr>\n",
       "    <tr>\n",
       "      <th>2</th>\n",
       "      <td>143</td>\n",
       "      <td>None</td>\n",
       "      <td>None</td>\n",
       "      <td>1882-12-31T00:00:00Z</td>\n",
       "      <td>-0.10</td>\n",
       "      <td>-0.16</td>\n",
       "    </tr>\n",
       "    <tr>\n",
       "      <th>3</th>\n",
       "      <td>144</td>\n",
       "      <td>None</td>\n",
       "      <td>None</td>\n",
       "      <td>1883-12-31T00:00:00Z</td>\n",
       "      <td>-0.16</td>\n",
       "      <td>-0.19</td>\n",
       "    </tr>\n",
       "    <tr>\n",
       "      <th>4</th>\n",
       "      <td>145</td>\n",
       "      <td>None</td>\n",
       "      <td>None</td>\n",
       "      <td>1884-12-31T00:00:00Z</td>\n",
       "      <td>-0.27</td>\n",
       "      <td>-0.23</td>\n",
       "    </tr>\n",
       "  </tbody>\n",
       "</table>\n",
       "</div>"
      ],
      "text/plain": [
       "   cartodb_id the_geom the_geom_webmercator                  date  \\\n",
       "0         141     None                 None  1880-12-31T00:00:00Z   \n",
       "1         142     None                 None  1881-12-31T00:00:00Z   \n",
       "2         143     None                 None  1882-12-31T00:00:00Z   \n",
       "3         144     None                 None  1883-12-31T00:00:00Z   \n",
       "4         145     None                 None  1884-12-31T00:00:00Z   \n",
       "\n",
       "   no_smoothing  lowess_5_smoothing  \n",
       "0         -0.16               -0.08  \n",
       "1         -0.07               -0.12  \n",
       "2         -0.10               -0.16  \n",
       "3         -0.16               -0.19  \n",
       "4         -0.27               -0.23  "
      ]
     },
     "execution_count": 20,
     "metadata": {},
     "output_type": "execute_result"
    }
   ],
   "source": [
    "t.head()"
   ]
  },
  {
   "cell_type": "code",
   "execution_count": 21,
   "metadata": {},
   "outputs": [
    {
     "data": {
      "text/plain": [
       "'https://api.resourcewatch.org/v1/query/917f1945-fff9-4b6f-8290-4f4b9417079e?sql=SELECT%20date%20as%20x%2C%20no_smoothing%20as%20y%20FROM%20cli_044_global_land_temperature%20%20%20ORDER%20BY%20date%20desc LIMIT 500&env=production&application=rw&hash=20047'"
      ]
     },
     "execution_count": 21,
     "metadata": {},
     "output_type": "execute_result"
    }
   ],
   "source": [
    "# QUERIES\n",
    "w = lmi.Widget('c8a973d1-7600-4950-aded-9ef74cfe3080')\n",
    "w.attributes['widgetConfig']['data'][0]['url']"
   ]
  },
  {
   "cell_type": "code",
   "execution_count": 22,
   "metadata": {},
   "outputs": [
    {
     "name": "stdout",
     "output_type": "stream",
     "text": [
      "https://api.resourcewatch.org/v1/query/917f1945-fff9-4b6f-8290-4f4b9417079e?sql=%0A%20%20%20%20%20%20%20%20SELECT%0A%20%20%20%20%20%20%20%20%20%20%20%20date%20as%20x,%0A%20%20%20%20%20%20%20%20%20%20%20%20no_smoothing%20as%20y%0A%20%20%20%20%20%20%20%20FROM%20cli_044_global_land_temperature%0A%20%20%20%20%20%20%20%20ORDER%20BY%20date%20asc%0A%20%20%20%20%20%20%20%20LIMIT%20500%0A\n"
     ]
    }
   ],
   "source": [
    "sql = f\"\"\"\n",
    "        SELECT\n",
    "            date as x,\n",
    "            no_smoothing as y\n",
    "        FROM data\n",
    "        ORDER BY date asc\n",
    "        LIMIT 500\n",
    "\"\"\"\n",
    "\n",
    "results = t.query(sql=sql)\n",
    "#results"
   ]
  },
  {
   "cell_type": "code",
   "execution_count": 23,
   "metadata": {},
   "outputs": [
    {
     "data": {
      "text/plain": [
       "[<matplotlib.lines.Line2D at 0x7f90363c0fd0>]"
      ]
     },
     "execution_count": 23,
     "metadata": {},
     "output_type": "execute_result"
    },
    {
     "data": {
      "image/png": "[encoded data removed]",
      "text/plain": [
       "<Figure size 432x288 with 1 Axes>"
      ]
     },
     "metadata": {
      "needs_background": "light"
     },
     "output_type": "display_data"
    }
   ],
   "source": [
    "plt.plot(results.x,results.y)"
   ]
  },
  {
   "cell_type": "code",
   "execution_count": 26,
   "metadata": {},
   "outputs": [],
   "source": [
    "results.to_csv('../../../../../Earth_Dashboard/temperature_rise.csv')"
   ]
  },
  {
   "cell_type": "markdown",
   "metadata": {},
   "source": [
    "#### 1B. Atmospheric CO2 rise"
   ]
  },
  {
   "cell_type": "code",
   "execution_count": 12,
   "metadata": {},
   "outputs": [
    {
     "name": "stdout",
     "output_type": "stream",
     "text": [
      "https://api.resourcewatch.org/v1/query/d287c201-4d7b-4b41-b352-edfcc6f96cb0?sql=SELECT%20*%20FROM%20cli_045_carbon_dioxide_concentration%20LIMIT%205\n"
     ]
    },
    {
     "data": {
      "text/html": [
       "<div>\n",
       "<style scoped>\n",
       "    .dataframe tbody tr th:only-of-type {\n",
       "        vertical-align: middle;\n",
       "    }\n",
       "\n",
       "    .dataframe tbody tr th {\n",
       "        vertical-align: top;\n",
       "    }\n",
       "\n",
       "    .dataframe thead th {\n",
       "        text-align: right;\n",
       "    }\n",
       "</style>\n",
       "<table border=\"1\" class=\"dataframe\">\n",
       "  <thead>\n",
       "    <tr style=\"text-align: right;\">\n",
       "      <th></th>\n",
       "      <th>cartodb_id</th>\n",
       "      <th>the_geom</th>\n",
       "      <th>the_geom_webmercator</th>\n",
       "      <th>index</th>\n",
       "      <th>date</th>\n",
       "      <th>average</th>\n",
       "      <th>interpolated</th>\n",
       "      <th>season_adjusted_trend</th>\n",
       "      <th>num_days</th>\n",
       "    </tr>\n",
       "  </thead>\n",
       "  <tbody>\n",
       "    <tr>\n",
       "      <th>0</th>\n",
       "      <td>1</td>\n",
       "      <td>None</td>\n",
       "      <td>None</td>\n",
       "      <td>1958</td>\n",
       "      <td>315-09-13 12:00:00</td>\n",
       "      <td>314.43</td>\n",
       "      <td>-1</td>\n",
       "      <td>-9.99</td>\n",
       "      <td>-0.99</td>\n",
       "    </tr>\n",
       "    <tr>\n",
       "      <th>1</th>\n",
       "      <td>2</td>\n",
       "      <td>None</td>\n",
       "      <td>None</td>\n",
       "      <td>1958</td>\n",
       "      <td>317-06-14 06:00:00</td>\n",
       "      <td>315.16</td>\n",
       "      <td>-1</td>\n",
       "      <td>-9.99</td>\n",
       "      <td>-0.99</td>\n",
       "    </tr>\n",
       "    <tr>\n",
       "      <th>2</th>\n",
       "      <td>3</td>\n",
       "      <td>None</td>\n",
       "      <td>None</td>\n",
       "      <td>1958</td>\n",
       "      <td>317-07-06 03:36:00</td>\n",
       "      <td>314.71</td>\n",
       "      <td>-1</td>\n",
       "      <td>-9.99</td>\n",
       "      <td>-0.99</td>\n",
       "    </tr>\n",
       "    <tr>\n",
       "      <th>3</th>\n",
       "      <td>4</td>\n",
       "      <td>None</td>\n",
       "      <td>None</td>\n",
       "      <td>1958</td>\n",
       "      <td>317-03-29 14:24:00</td>\n",
       "      <td>315.14</td>\n",
       "      <td>-1</td>\n",
       "      <td>-9.99</td>\n",
       "      <td>-0.99</td>\n",
       "    </tr>\n",
       "    <tr>\n",
       "      <th>4</th>\n",
       "      <td>5</td>\n",
       "      <td>None</td>\n",
       "      <td>None</td>\n",
       "      <td>1958</td>\n",
       "      <td>315-11-10 21:36:00</td>\n",
       "      <td>315.18</td>\n",
       "      <td>-1</td>\n",
       "      <td>-9.99</td>\n",
       "      <td>-0.99</td>\n",
       "    </tr>\n",
       "  </tbody>\n",
       "</table>\n",
       "</div>"
      ],
      "text/plain": [
       "   cartodb_id the_geom the_geom_webmercator  index                date  \\\n",
       "0           1     None                 None   1958  315-09-13 12:00:00   \n",
       "1           2     None                 None   1958  317-06-14 06:00:00   \n",
       "2           3     None                 None   1958  317-07-06 03:36:00   \n",
       "3           4     None                 None   1958  317-03-29 14:24:00   \n",
       "4           5     None                 None   1958  315-11-10 21:36:00   \n",
       "\n",
       "   average  interpolated  season_adjusted_trend  num_days  \n",
       "0   314.43            -1                  -9.99     -0.99  \n",
       "1   315.16            -1                  -9.99     -0.99  \n",
       "2   314.71            -1                  -9.99     -0.99  \n",
       "3   315.14            -1                  -9.99     -0.99  \n",
       "4   315.18            -1                  -9.99     -0.99  "
      ]
     },
     "execution_count": 12,
     "metadata": {},
     "output_type": "execute_result"
    }
   ],
   "source": [
    "t =lmi.Table('d287c201-4d7b-4b41-b352-edfcc6f96cb0')\n",
    "t.head()"
   ]
  },
  {
   "cell_type": "code",
   "execution_count": 13,
   "metadata": {},
   "outputs": [
    {
     "data": {
      "text/plain": [
       "'https://api.resourcewatch.org/v1/query/d287c201-4d7b-4b41-b352-edfcc6f96cb0?sql=SELECT%20date%20as%20x%2C%20average%20as%20y%20FROM%20cli_045_carbon_dioxide_concentration%20WHERE%20average%20%3E%3D%200%20AND%20average%20%3C%3D%20410%20AND%20average%20IS%20NOT%20NULL%20%20ORDER%20BY%20date%20desc LIMIT 750&hash=31782'"
      ]
     },
     "execution_count": 13,
     "metadata": {},
     "output_type": "execute_result"
    }
   ],
   "source": [
    "w = lmi.Widget('aa9fbe32-1f4d-416c-8f07-e8adf72f26ed')\n",
    "# reach the query\n",
    "w.attributes['widgetConfig']['data'][0]['url']"
   ]
  },
  {
   "cell_type": "code",
   "execution_count": 14,
   "metadata": {},
   "outputs": [
    {
     "name": "stdout",
     "output_type": "stream",
     "text": [
      "https://api.resourcewatch.org/v1/query/d287c201-4d7b-4b41-b352-edfcc6f96cb0?sql=%0A%20%20%20%20%20%20%20%20SELECT%0A%20%20%20%20%20%20%20%20%20%20%20%20date%20as%20x,%0A%20%20%20%20%20%20%20%20%20%20%20%20average%20as%20y%0A%20%20%20%20%20%20%20%20FROM%20cli_045_carbon_dioxide_concentration%0A%20%20%20%20%20%20%20%20WHERE%20average%20%3E=%200%0A%20%20%20%20%20%20%20%20AND%20average%20%3C=%20410%0A%20%20%20%20%20%20%20%20AND%20average%20IS%20NOT%20NULL%0A%20%20%20%20%20%20%20%20ORDER%20BY%20date%20asc%0A%20%20%20%20%20%20%20%20LIMIT%20750&hash=5280%0A\n"
     ]
    }
   ],
   "source": [
    "# reproduce query\n",
    "sql = f\"\"\"\n",
    "        SELECT\n",
    "            date as x,\n",
    "            average as y\n",
    "        FROM data\n",
    "        WHERE average >= 0\n",
    "        AND average <= 410\n",
    "        AND average IS NOT NULL\n",
    "        ORDER BY date asc\n",
    "        LIMIT 750&hash=5280\n",
    "\"\"\"\n",
    "\n",
    "results = t.query(sql=sql)\n",
    "#results"
   ]
  },
  {
   "cell_type": "code",
   "execution_count": 15,
   "metadata": {},
   "outputs": [
    {
     "data": {
      "text/plain": [
       "[<matplotlib.lines.Line2D at 0x7f90360a2190>]"
      ]
     },
     "execution_count": 15,
     "metadata": {},
     "output_type": "execute_result"
    },
    {
     "data": {
      "image/png": "[encoded data removed]",
      "text/plain": [
       "<Figure size 432x288 with 1 Axes>"
      ]
     },
     "metadata": {
      "needs_background": "light"
     },
     "output_type": "display_data"
    }
   ],
   "source": [
    "plt.plot(results.x,results.y)"
   ]
  },
  {
   "cell_type": "markdown",
   "metadata": {},
   "source": [
    "#### 1C. Artic Sea Ice Decrease\n",
    "*** GEE SQL query, problem extracting dates ***"
   ]
  },
  {
   "cell_type": "code",
   "execution_count": 4,
   "metadata": {},
   "outputs": [],
   "source": [
    "t =lmi.Table('a99c5cf5-f141-4bed-a36d-b04c8e171dfa')"
   ]
  },
  {
   "cell_type": "code",
   "execution_count": 38,
   "metadata": {},
   "outputs": [
    {
     "name": "stdout",
     "output_type": "stream",
     "text": [
      "https://api.resourcewatch.org/v1/query/a99c5cf5-f141-4bed-a36d-b04c8e171dfa?sql=SELECT%20*%20FROM%20projects/resource-watch-gee/cli_005_historical_sea_ice_extent/cli_005_arctic_sea_ice_extent_reproj_month09_hist%20LIMIT%205\n"
     ]
    },
    {
     "data": {
      "text/html": [
       "<div>\n",
       "<style scoped>\n",
       "    .dataframe tbody tr th:only-of-type {\n",
       "        vertical-align: middle;\n",
       "    }\n",
       "\n",
       "    .dataframe tbody tr th {\n",
       "        vertical-align: top;\n",
       "    }\n",
       "\n",
       "    .dataframe thead th {\n",
       "        text-align: right;\n",
       "    }\n",
       "</style>\n",
       "<table border=\"1\" class=\"dataframe\">\n",
       "  <thead>\n",
       "    <tr style=\"text-align: right;\">\n",
       "      <th></th>\n",
       "      <th>system:asset_size</th>\n",
       "      <th>system:footprint</th>\n",
       "      <th>system:index</th>\n",
       "      <th>system:time_end</th>\n",
       "      <th>system:time_start</th>\n",
       "    </tr>\n",
       "  </thead>\n",
       "  <tbody>\n",
       "    <tr>\n",
       "      <th>0</th>\n",
       "      <td>10232</td>\n",
       "      <td>{'coordinates': [[-180.0, -90.0], [180.0, -90....</td>\n",
       "      <td>cli_005_arctic_sea_ice_197909</td>\n",
       "      <td>3.049920e+11</td>\n",
       "      <td>3.049920e+11</td>\n",
       "    </tr>\n",
       "    <tr>\n",
       "      <th>1</th>\n",
       "      <td>10184</td>\n",
       "      <td>{'coordinates': [[-180.0, -90.0], [180.0, -90....</td>\n",
       "      <td>cli_005_arctic_sea_ice_198009</td>\n",
       "      <td>3.366144e+11</td>\n",
       "      <td>3.366144e+11</td>\n",
       "    </tr>\n",
       "    <tr>\n",
       "      <th>2</th>\n",
       "      <td>10248</td>\n",
       "      <td>{'coordinates': [[-180.0, -90.0], [180.0, -90....</td>\n",
       "      <td>cli_005_arctic_sea_ice_198109</td>\n",
       "      <td>3.681504e+11</td>\n",
       "      <td>3.681504e+11</td>\n",
       "    </tr>\n",
       "    <tr>\n",
       "      <th>3</th>\n",
       "      <td>10263</td>\n",
       "      <td>{'coordinates': [[-180.0, -90.0], [180.0, -90....</td>\n",
       "      <td>cli_005_arctic_sea_ice_198209</td>\n",
       "      <td>3.996864e+11</td>\n",
       "      <td>3.996864e+11</td>\n",
       "    </tr>\n",
       "    <tr>\n",
       "      <th>4</th>\n",
       "      <td>10350</td>\n",
       "      <td>{'coordinates': [[-180.0, -90.0], [180.0, -90....</td>\n",
       "      <td>cli_005_arctic_sea_ice_198309</td>\n",
       "      <td>4.312224e+11</td>\n",
       "      <td>4.312224e+11</td>\n",
       "    </tr>\n",
       "  </tbody>\n",
       "</table>\n",
       "</div>"
      ],
      "text/plain": [
       "   system:asset_size                                   system:footprint  \\\n",
       "0              10232  {'coordinates': [[-180.0, -90.0], [180.0, -90....   \n",
       "1              10184  {'coordinates': [[-180.0, -90.0], [180.0, -90....   \n",
       "2              10248  {'coordinates': [[-180.0, -90.0], [180.0, -90....   \n",
       "3              10263  {'coordinates': [[-180.0, -90.0], [180.0, -90....   \n",
       "4              10350  {'coordinates': [[-180.0, -90.0], [180.0, -90....   \n",
       "\n",
       "                    system:index  system:time_end  system:time_start  \n",
       "0  cli_005_arctic_sea_ice_197909     3.049920e+11       3.049920e+11  \n",
       "1  cli_005_arctic_sea_ice_198009     3.366144e+11       3.366144e+11  \n",
       "2  cli_005_arctic_sea_ice_198109     3.681504e+11       3.681504e+11  \n",
       "3  cli_005_arctic_sea_ice_198209     3.996864e+11       3.996864e+11  \n",
       "4  cli_005_arctic_sea_ice_198309     4.312224e+11       4.312224e+11  "
      ]
     },
     "execution_count": 38,
     "metadata": {},
     "output_type": "execute_result"
    }
   ],
   "source": [
    "t.head()"
   ]
  },
  {
   "cell_type": "code",
   "execution_count": 143,
   "metadata": {},
   "outputs": [
    {
     "data": {
      "text/plain": [
       "'gee'"
      ]
     },
     "execution_count": 143,
     "metadata": {},
     "output_type": "execute_result"
    }
   ],
   "source": [
    "t.attributes['provider'] ### it a GEE dataset"
   ]
  },
  {
   "cell_type": "code",
   "execution_count": 7,
   "metadata": {},
   "outputs": [
    {
     "name": "stdout",
     "output_type": "stream",
     "text": [
      "https://api.resourcewatch.org/v1/query/a99c5cf5-f141-4bed-a36d-b04c8e171dfa?sql=%0A%20%20%20%20%20%20%20%20SELECT%0A%20%20%20%20%20%20%20%20%20%20%20%20system:index%20AS%20x,%20%20%20%20%20%20%20%20%20%20%0A%20%20%20%20%20%20%20%20%20%20%20%20system:asset_size%20AS%20y%0A%20%20%20%20%20%20%20%20FROM%20projects/resource-watch-gee/cli_005_historical_sea_ice_extent/cli_005_arctic_sea_ice_extent_reproj_month09_hist%0A%20%20%20%20%20%20%20%20ORDER%20BY%20date%20asc%0A%20%20%20%20%20%20%20%20LIMIT%20750&hash=5280%0A\n"
     ]
    }
   ],
   "source": [
    "# reproduce query\n",
    "sql = f\"\"\"\n",
    "        SELECT\n",
    "            system:index AS x,          \n",
    "            system:asset_size AS y\n",
    "        FROM data\n",
    "        ORDER BY date asc\n",
    "        LIMIT 750&hash=5280\n",
    "\"\"\"\n",
    "### get dates\n",
    "results = t.query(sql=sql)\n",
    "#results\n",
    "\n",
    "# Tried modifying the date column to get something more understandable but failed probably beacuse of the GEEE to SQL conversion https://vizzuality.github.io/sql2gee/\n",
    "#REGEXP_MATCHES(system:index,'[0-9]{{{4}}}') as y   \n",
    "##SUBSTRING(system:index,20,24) as y"
   ]
  },
  {
   "cell_type": "code",
   "execution_count": 8,
   "metadata": {},
   "outputs": [
    {
     "data": {
      "text/plain": [
       "[<matplotlib.lines.Line2D at 0x7fb63d799fd0>]"
      ]
     },
     "execution_count": 8,
     "metadata": {},
     "output_type": "execute_result"
    },
    {
     "data": {
      "image/png": "[encoded data removed]",
      "text/plain": [
       "<Figure size 432x288 with 1 Axes>"
      ]
     },
     "metadata": {
      "needs_background": "light"
     },
     "output_type": "display_data"
    }
   ],
   "source": [
    "plt.plot(results.x,results.y)"
   ]
  },
  {
   "cell_type": "markdown",
   "metadata": {},
   "source": [
    "#### 1D. Sources of Green House gas emissions"
   ]
  },
  {
   "cell_type": "code",
   "execution_count": 3,
   "metadata": {},
   "outputs": [
    {
     "data": {
      "text/plain": [
       "\"https://wri-rw.carto.com/api/v2/sql?q=SELECT datetime as x, yr_data AS y, sector AS c FROM cli_049_pik_world_sectoral_ar4 WHERE sector NOT ILIKE 'Total including LULUCF' ORDER BY c ASC, x ASC&hash=54137\""
      ]
     },
     "execution_count": 3,
     "metadata": {},
     "output_type": "execute_result"
    }
   ],
   "source": [
    "w = lmi.Widget('c62cb2d4-2b42-437e-9724-02c1e795f0e1')\n",
    "# reach the query\n",
    "w.attributes['widgetConfig']['data'][0]['url']"
   ]
  },
  {
   "cell_type": "code",
   "execution_count": 26,
   "metadata": {},
   "outputs": [
    {
     "data": {
      "text/plain": [
       "'ab61b2df-4487-461d-b96f-d371027c6f67'"
      ]
     },
     "execution_count": 26,
     "metadata": {},
     "output_type": "execute_result"
    }
   ],
   "source": [
    "w.attributes['dataset']"
   ]
  },
  {
   "cell_type": "code",
   "execution_count": 27,
   "metadata": {},
   "outputs": [
    {
     "name": "stdout",
     "output_type": "stream",
     "text": [
      "https://api.resourcewatch.org/v1/query/ab61b2df-4487-461d-b96f-d371027c6f67?sql=SELECT%20*%20FROM%20cli_049_pik_world_sectoral_ar4%20LIMIT%205\n"
     ]
    },
    {
     "data": {
      "text/html": [
       "<div>\n",
       "<style scoped>\n",
       "    .dataframe tbody tr th:only-of-type {\n",
       "        vertical-align: middle;\n",
       "    }\n",
       "\n",
       "    .dataframe tbody tr th {\n",
       "        vertical-align: top;\n",
       "    }\n",
       "\n",
       "    .dataframe thead th {\n",
       "        text-align: right;\n",
       "    }\n",
       "</style>\n",
       "<table border=\"1\" class=\"dataframe\">\n",
       "  <thead>\n",
       "    <tr style=\"text-align: right;\">\n",
       "      <th></th>\n",
       "      <th>cartodb_id</th>\n",
       "      <th>the_geom</th>\n",
       "      <th>the_geom_webmercator</th>\n",
       "      <th>country</th>\n",
       "      <th>source</th>\n",
       "      <th>sector</th>\n",
       "      <th>gas</th>\n",
       "      <th>gwp</th>\n",
       "      <th>datetime</th>\n",
       "      <th>yr_data</th>\n",
       "    </tr>\n",
       "  </thead>\n",
       "  <tbody>\n",
       "    <tr>\n",
       "      <th>0</th>\n",
       "      <td>1</td>\n",
       "      <td>None</td>\n",
       "      <td>None</td>\n",
       "      <td>WORLD</td>\n",
       "      <td>PIK</td>\n",
       "      <td>Total including LULUCF</td>\n",
       "      <td>All GHG</td>\n",
       "      <td>AR4</td>\n",
       "      <td>1850-01-01T00:00:00Z</td>\n",
       "      <td>2870.00</td>\n",
       "    </tr>\n",
       "    <tr>\n",
       "      <th>1</th>\n",
       "      <td>2</td>\n",
       "      <td>None</td>\n",
       "      <td>None</td>\n",
       "      <td>WORLD</td>\n",
       "      <td>PIK</td>\n",
       "      <td>Energy</td>\n",
       "      <td>All GHG</td>\n",
       "      <td>AR4</td>\n",
       "      <td>1850-01-01T00:00:00Z</td>\n",
       "      <td>258.00</td>\n",
       "    </tr>\n",
       "    <tr>\n",
       "      <th>2</th>\n",
       "      <td>3</td>\n",
       "      <td>None</td>\n",
       "      <td>None</td>\n",
       "      <td>WORLD</td>\n",
       "      <td>PIK</td>\n",
       "      <td>Industrial process</td>\n",
       "      <td>All GHG</td>\n",
       "      <td>AR4</td>\n",
       "      <td>1850-01-01T00:00:00Z</td>\n",
       "      <td>9.35</td>\n",
       "    </tr>\n",
       "    <tr>\n",
       "      <th>3</th>\n",
       "      <td>4</td>\n",
       "      <td>None</td>\n",
       "      <td>None</td>\n",
       "      <td>WORLD</td>\n",
       "      <td>PIK</td>\n",
       "      <td>Solvent sector</td>\n",
       "      <td>All GHG</td>\n",
       "      <td>AR4</td>\n",
       "      <td>1850-01-01T00:00:00Z</td>\n",
       "      <td>1.84</td>\n",
       "    </tr>\n",
       "    <tr>\n",
       "      <th>4</th>\n",
       "      <td>5</td>\n",
       "      <td>None</td>\n",
       "      <td>None</td>\n",
       "      <td>WORLD</td>\n",
       "      <td>PIK</td>\n",
       "      <td>Agriculture</td>\n",
       "      <td>All GHG</td>\n",
       "      <td>AR4</td>\n",
       "      <td>1850-01-01T00:00:00Z</td>\n",
       "      <td>598.00</td>\n",
       "    </tr>\n",
       "  </tbody>\n",
       "</table>\n",
       "</div>"
      ],
      "text/plain": [
       "   cartodb_id the_geom the_geom_webmercator country source  \\\n",
       "0           1     None                 None   WORLD    PIK   \n",
       "1           2     None                 None   WORLD    PIK   \n",
       "2           3     None                 None   WORLD    PIK   \n",
       "3           4     None                 None   WORLD    PIK   \n",
       "4           5     None                 None   WORLD    PIK   \n",
       "\n",
       "                   sector      gas  gwp              datetime  yr_data  \n",
       "0  Total including LULUCF  All GHG  AR4  1850-01-01T00:00:00Z  2870.00  \n",
       "1                  Energy  All GHG  AR4  1850-01-01T00:00:00Z   258.00  \n",
       "2      Industrial process  All GHG  AR4  1850-01-01T00:00:00Z     9.35  \n",
       "3          Solvent sector  All GHG  AR4  1850-01-01T00:00:00Z     1.84  \n",
       "4            Agriculture   All GHG  AR4  1850-01-01T00:00:00Z   598.00  "
      ]
     },
     "execution_count": 27,
     "metadata": {},
     "output_type": "execute_result"
    }
   ],
   "source": [
    "t = lmi.Table('ab61b2df-4487-461d-b96f-d371027c6f67')\n",
    "t.head()"
   ]
  },
  {
   "cell_type": "code",
   "execution_count": 71,
   "metadata": {},
   "outputs": [
    {
     "name": "stdout",
     "output_type": "stream",
     "text": [
      "https://api.resourcewatch.org/v1/query/ab61b2df-4487-461d-b96f-d371027c6f67?sql=%0A%20%20%20%20%20%20%20%20SELECT%0A%20%20%20%20%20%20%20%20%20%20%20%20TO_CHAR(datetime,'YYYY')%20AS%20x,%0A%20%20%20%20%20%20%20%20%20%20%20%20yr_data%20as%20y,%20%20%20%20%0A%20%20%20%20%20%20%20%20%20%20%20%20sector%20as%20c%20%0A%20%20%20%20%20%20%20%20FROM%20cli_049_pik_world_sectoral_ar4%0A%20%20%20%20%20%20%20%20WHERE%20sector%20NOT%20ILIKE%20'Total%20including%20LULUCF'%0A%20%20%20%20%20%20%20%20ORDER%20BY%0A%20%20%20%20%20%20%20%20%20%20%20%20c%20ASC,%0A%20%20%20%20%20%20%20%20%20%20%20%20x%20ASC%0A%20%20%20%20%20%20%20%0A\n"
     ]
    }
   ],
   "source": [
    "# reproduce query\n",
    "sql = f\"\"\"\n",
    "        SELECT\n",
    "            TO_CHAR(datetime,'YYYY') AS x,\n",
    "            yr_data as y,    \n",
    "            sector as c \n",
    "        FROM data\n",
    "        WHERE sector NOT ILIKE 'Total including LULUCF'\n",
    "        ORDER BY\n",
    "            c ASC,\n",
    "            x ASC\n",
    "       \n",
    "\"\"\"\n",
    "### get dates\n",
    "results = t.query(sql=sql)\n",
    "#results\n",
    "# split_part(datetime, '-', 1) as x,   "
   ]
  },
  {
   "cell_type": "code",
   "execution_count": 72,
   "metadata": {},
   "outputs": [
    {
     "data": {
      "text/html": [
       "<div>\n",
       "<style scoped>\n",
       "    .dataframe tbody tr th:only-of-type {\n",
       "        vertical-align: middle;\n",
       "    }\n",
       "\n",
       "    .dataframe tbody tr th {\n",
       "        vertical-align: top;\n",
       "    }\n",
       "\n",
       "    .dataframe thead th {\n",
       "        text-align: right;\n",
       "    }\n",
       "</style>\n",
       "<table border=\"1\" class=\"dataframe\">\n",
       "  <thead>\n",
       "    <tr style=\"text-align: right;\">\n",
       "      <th></th>\n",
       "      <th>x</th>\n",
       "      <th>y</th>\n",
       "      <th>c</th>\n",
       "    </tr>\n",
       "  </thead>\n",
       "  <tbody>\n",
       "    <tr>\n",
       "      <th>0</th>\n",
       "      <td>1850</td>\n",
       "      <td>598.0</td>\n",
       "      <td>Agriculture</td>\n",
       "    </tr>\n",
       "    <tr>\n",
       "      <th>1</th>\n",
       "      <td>1851</td>\n",
       "      <td>617.0</td>\n",
       "      <td>Agriculture</td>\n",
       "    </tr>\n",
       "    <tr>\n",
       "      <th>2</th>\n",
       "      <td>1852</td>\n",
       "      <td>637.0</td>\n",
       "      <td>Agriculture</td>\n",
       "    </tr>\n",
       "    <tr>\n",
       "      <th>3</th>\n",
       "      <td>1853</td>\n",
       "      <td>656.0</td>\n",
       "      <td>Agriculture</td>\n",
       "    </tr>\n",
       "    <tr>\n",
       "      <th>4</th>\n",
       "      <td>1854</td>\n",
       "      <td>675.0</td>\n",
       "      <td>Agriculture</td>\n",
       "    </tr>\n",
       "  </tbody>\n",
       "</table>\n",
       "</div>"
      ],
      "text/plain": [
       "      x      y             c\n",
       "0  1850  598.0  Agriculture \n",
       "1  1851  617.0  Agriculture \n",
       "2  1852  637.0  Agriculture \n",
       "3  1853  656.0  Agriculture \n",
       "4  1854  675.0  Agriculture "
      ]
     },
     "execution_count": 72,
     "metadata": {},
     "output_type": "execute_result"
    }
   ],
   "source": [
    "results.head() "
   ]
  },
  {
   "cell_type": "code",
   "execution_count": 92,
   "metadata": {},
   "outputs": [
    {
     "data": {
      "text/html": [
       "<div>\n",
       "<style scoped>\n",
       "    .dataframe tbody tr th:only-of-type {\n",
       "        vertical-align: middle;\n",
       "    }\n",
       "\n",
       "    .dataframe tbody tr th {\n",
       "        vertical-align: top;\n",
       "    }\n",
       "\n",
       "    .dataframe thead th {\n",
       "        text-align: right;\n",
       "    }\n",
       "</style>\n",
       "<table border=\"1\" class=\"dataframe\">\n",
       "  <thead>\n",
       "    <tr style=\"text-align: right;\">\n",
       "      <th>c</th>\n",
       "      <th>x</th>\n",
       "      <th>Agriculture</th>\n",
       "      <th>Energy</th>\n",
       "      <th>Industrial process</th>\n",
       "      <th>Land-Use Change and Forestry</th>\n",
       "      <th>Other</th>\n",
       "      <th>Solvent sector</th>\n",
       "      <th>Waste</th>\n",
       "    </tr>\n",
       "  </thead>\n",
       "  <tbody>\n",
       "    <tr>\n",
       "      <th>0</th>\n",
       "      <td>1850</td>\n",
       "      <td>598.0</td>\n",
       "      <td>258.0</td>\n",
       "      <td>9.35</td>\n",
       "      <td>1920.0</td>\n",
       "      <td>7.04</td>\n",
       "      <td>1.84</td>\n",
       "      <td>80.2</td>\n",
       "    </tr>\n",
       "    <tr>\n",
       "      <th>1</th>\n",
       "      <td>1851</td>\n",
       "      <td>617.0</td>\n",
       "      <td>260.0</td>\n",
       "      <td>11.20</td>\n",
       "      <td>1890.0</td>\n",
       "      <td>7.23</td>\n",
       "      <td>1.88</td>\n",
       "      <td>80.9</td>\n",
       "    </tr>\n",
       "    <tr>\n",
       "      <th>2</th>\n",
       "      <td>1852</td>\n",
       "      <td>637.0</td>\n",
       "      <td>270.0</td>\n",
       "      <td>12.20</td>\n",
       "      <td>2100.0</td>\n",
       "      <td>7.41</td>\n",
       "      <td>1.94</td>\n",
       "      <td>81.6</td>\n",
       "    </tr>\n",
       "    <tr>\n",
       "      <th>3</th>\n",
       "      <td>1853</td>\n",
       "      <td>656.0</td>\n",
       "      <td>280.0</td>\n",
       "      <td>13.60</td>\n",
       "      <td>2100.0</td>\n",
       "      <td>7.58</td>\n",
       "      <td>2.01</td>\n",
       "      <td>82.2</td>\n",
       "    </tr>\n",
       "    <tr>\n",
       "      <th>4</th>\n",
       "      <td>1854</td>\n",
       "      <td>675.0</td>\n",
       "      <td>319.0</td>\n",
       "      <td>15.10</td>\n",
       "      <td>2090.0</td>\n",
       "      <td>7.74</td>\n",
       "      <td>2.16</td>\n",
       "      <td>83.0</td>\n",
       "    </tr>\n",
       "  </tbody>\n",
       "</table>\n",
       "</div>"
      ],
      "text/plain": [
       "c     x  Agriculture   Energy  Industrial process  \\\n",
       "0  1850         598.0   258.0                9.35   \n",
       "1  1851         617.0   260.0               11.20   \n",
       "2  1852         637.0   270.0               12.20   \n",
       "3  1853         656.0   280.0               13.60   \n",
       "4  1854         675.0   319.0               15.10   \n",
       "\n",
       "c  Land-Use Change and Forestry   Other  Solvent sector  Waste   \n",
       "0                         1920.0   7.04            1.84    80.2  \n",
       "1                         1890.0   7.23            1.88    80.9  \n",
       "2                         2100.0   7.41            1.94    81.6  \n",
       "3                         2100.0   7.58            2.01    82.2  \n",
       "4                         2090.0   7.74            2.16    83.0  "
      ]
     },
     "execution_count": 92,
     "metadata": {},
     "output_type": "execute_result"
    }
   ],
   "source": [
    "pivoted = results.pivot(index='x', columns='c', values='y').reset_index()\n",
    "pivoted.head()\n",
    "#pivoted.columns"
   ]
  },
  {
   "cell_type": "code",
   "execution_count": 107,
   "metadata": {},
   "outputs": [
    {
     "data": {
      "text/plain": [
       "[<matplotlib.collections.PolyCollection at 0x7f976661be50>,\n",
       " <matplotlib.collections.PolyCollection at 0x7f97666257d0>,\n",
       " <matplotlib.collections.PolyCollection at 0x7f9766625ad0>,\n",
       " <matplotlib.collections.PolyCollection at 0x7f9766625dd0>,\n",
       " <matplotlib.collections.PolyCollection at 0x7f9766625f90>,\n",
       " <matplotlib.collections.PolyCollection at 0x7f976662d490>,\n",
       " <matplotlib.collections.PolyCollection at 0x7f976662d790>]"
      ]
     },
     "execution_count": 107,
     "metadata": {},
     "output_type": "execute_result"
    },
    {
     "data": {
      "image/png": "[encoded data removed]",
      "text/plain": [
       "<Figure size 432x288 with 1 Axes>"
      ]
     },
     "metadata": {
      "needs_background": "light"
     },
     "output_type": "display_data"
    }
   ],
   "source": [
    "plt.stackplot(pivoted['x'],pivoted['Agriculture '],pivoted['Energy'],pivoted['Industrial process'], \n",
    "              pivoted['Land-Use Change and Forestry '],pivoted['Other'],pivoted['Solvent sector'],pivoted['Waste '])"
   ]
  },
  {
   "cell_type": "markdown",
   "metadata": {},
   "source": [
    "### 2. Forests\n",
    "#### 2A. Tree cover loss (Main Custom made)\n",
    "*** updating table in process ***"
   ]
  },
  {
   "cell_type": "code",
   "execution_count": null,
   "metadata": {},
   "outputs": [],
   "source": [
    "d= lmi.Dataset('6a27e704-92ba-4817-a1ed-bfcdb27f9de3')\n",
    "#d"
   ]
  },
  {
   "cell_type": "markdown",
   "metadata": {},
   "source": [
    "#### 2B. Treecover loss map (MAP)"
   ]
  },
  {
   "cell_type": "code",
   "execution_count": null,
   "metadata": {},
   "outputs": [],
   "source": [
    "d= lmi.Dataset('6a27e704-92ba-4817-a1ed-bfcdb27f9de3')\n",
    "#d"
   ]
  },
  {
   "cell_type": "markdown",
   "metadata": {},
   "source": [
    "#### 2C. Fires (MAP)"
   ]
  },
  {
   "cell_type": "code",
   "execution_count": null,
   "metadata": {},
   "outputs": [],
   "source": [
    "d= lmi.Dataset('64c948a6-5e34-4ef2-bb69-6a6535967bd5')\n",
    "#d.head()"
   ]
  },
  {
   "cell_type": "markdown",
   "metadata": {},
   "source": [
    "#### 2D. Endangered species critical habitats (MAP)"
   ]
  },
  {
   "cell_type": "code",
   "execution_count": null,
   "metadata": {},
   "outputs": [],
   "source": [
    "d= lmi.Dataset('5b5a21ac-0835-43fb-86b9-64b93d472e10')\n",
    "#d.head()"
   ]
  },
  {
   "cell_type": "markdown",
   "metadata": {},
   "source": [
    "#### 2E. Land use by Food type"
   ]
  },
  {
   "cell_type": "code",
   "execution_count": 10,
   "metadata": {},
   "outputs": [],
   "source": [
    "t= lmi.Table('702f4bcb-c376-49b6-9345-cdc8aa989582')\n",
    "#t.head()"
   ]
  },
  {
   "cell_type": "code",
   "execution_count": 11,
   "metadata": {},
   "outputs": [
    {
     "name": "stdout",
     "output_type": "stream",
     "text": [
      "https://api.resourcewatch.org/v1/query/702f4bcb-c376-49b6-9345-cdc8aa989582?sql=%0A%20%20%20%20%20%20%20%20SELECT%0A%20%20%20%20%20%20%20%20%20%20%20%20food_type%20as%20x,%20%20%20%20%20%20%20%20%20%20%0A%20%20%20%20%20%20%20%20%20%20%20%20total_land_use_ha_per_million_kilocalories_consumed%20as%20y%20%20%20%20%0A%20%20%20%20%20%20%20%20FROM%20foo_046b_food_footprint_calories_wrrupdate%0A%20%20%20%20%20%20%20%20ORDER%20BY%20y%20DESC%0A\n"
     ]
    }
   ],
   "source": [
    "# reproduce query\n",
    "### it has to be a stacked bar chart...What variables?\n",
    "sql = f\"\"\"\n",
    "        SELECT\n",
    "            food_type as x,          \n",
    "            total_land_use_ha_per_million_kilocalories_consumed as y    \n",
    "        FROM data\n",
    "        ORDER BY y DESC\n",
    "\"\"\"\n",
    "### get dates\n",
    "results = t.query(sql=sql)\n",
    "#results\n"
   ]
  },
  {
   "cell_type": "code",
   "execution_count": 12,
   "metadata": {},
   "outputs": [
    {
     "data": {
      "text/plain": [
       "([0, 1, 2, 3, 4, 5, 6, 7, 8, 9, 10, 11, 12, 13, 14, 15, 16, 17],\n",
       " <a list of 18 Text xticklabel objects>)"
      ]
     },
     "execution_count": 12,
     "metadata": {},
     "output_type": "execute_result"
    },
    {
     "data": {
      "image/png": "[encoded data removed]",
      "text/plain": [
       "<Figure size 432x288 with 1 Axes>"
      ]
     },
     "metadata": {
      "needs_background": "light"
     },
     "output_type": "display_data"
    }
   ],
   "source": [
    "plt.bar(results.x,results.y)\n",
    "plt.xticks(rotation=90)"
   ]
  },
  {
   "cell_type": "markdown",
   "metadata": {},
   "source": [
    "### 3. Water\n",
    "#### 3A. Water stress (main custom made)"
   ]
  },
  {
   "cell_type": "code",
   "execution_count": 4,
   "metadata": {},
   "outputs": [],
   "source": [
    "d= lmi.Dataset('c66d7f3a-d1a8-488f-af8b-302b0f2c3840')\n",
    "#d.head()"
   ]
  },
  {
   "cell_type": "markdown",
   "metadata": {},
   "source": [
    "#### 3B. Levels of water stress around the world (MAP)"
   ]
  },
  {
   "cell_type": "code",
   "execution_count": null,
   "metadata": {},
   "outputs": [],
   "source": [
    "d= lmi.Dataset('c66d7f3a-d1a8-488f-af8b-302b0f2c3840')\n",
    "#d.head()"
   ]
  },
  {
   "cell_type": "markdown",
   "metadata": {},
   "source": [
    "#### 3C. Access to clean water (Bar Chart by country)"
   ]
  },
  {
   "cell_type": "code",
   "execution_count": 15,
   "metadata": {},
   "outputs": [
    {
     "name": "stdout",
     "output_type": "stream",
     "text": [
      "https://api.resourcewatch.org/v1/query/e32bdaba-5a72-487c-b640-668adaea2976?sql=SELECT%20*%20FROM%20wat_005a_improved_water_access_edit%20LIMIT%205\n"
     ]
    },
    {
     "data": {
      "text/html": [
       "<div>\n",
       "<style scoped>\n",
       "    .dataframe tbody tr th:only-of-type {\n",
       "        vertical-align: middle;\n",
       "    }\n",
       "\n",
       "    .dataframe tbody tr th {\n",
       "        vertical-align: top;\n",
       "    }\n",
       "\n",
       "    .dataframe thead th {\n",
       "        text-align: right;\n",
       "    }\n",
       "</style>\n",
       "<table border=\"1\" class=\"dataframe\">\n",
       "  <thead>\n",
       "    <tr style=\"text-align: right;\">\n",
       "      <th></th>\n",
       "      <th>cartodb_id</th>\n",
       "      <th>the_geom</th>\n",
       "      <th>the_geom_webmercator</th>\n",
       "      <th>country_code</th>\n",
       "      <th>country_name</th>\n",
       "      <th>datetime</th>\n",
       "      <th>year</th>\n",
       "      <th>total</th>\n",
       "      <th>unit1</th>\n",
       "      <th>indicator_code1</th>\n",
       "      <th>urban</th>\n",
       "      <th>unit2</th>\n",
       "      <th>indicator_code2</th>\n",
       "      <th>rural</th>\n",
       "      <th>unit3</th>\n",
       "      <th>indicator_code3</th>\n",
       "      <th>rw_country_name</th>\n",
       "      <th>rw_country_code</th>\n",
       "    </tr>\n",
       "  </thead>\n",
       "  <tbody>\n",
       "    <tr>\n",
       "      <th>0</th>\n",
       "      <td>174721</td>\n",
       "      <td>None</td>\n",
       "      <td>None</td>\n",
       "      <td>AFG</td>\n",
       "      <td>Afghanistan</td>\n",
       "      <td>2019-01-01T00:00:00Z</td>\n",
       "      <td>2019</td>\n",
       "      <td>None</td>\n",
       "      <td>% of population</td>\n",
       "      <td>SH.H2O.SMDW.ZS</td>\n",
       "      <td>None</td>\n",
       "      <td>% of urban pop</td>\n",
       "      <td>SH.H2O.SMDW.UR.ZS</td>\n",
       "      <td>None</td>\n",
       "      <td>% of rural pop</td>\n",
       "      <td>SH.H2O.SMDW.RU.ZS</td>\n",
       "      <td>Afghanistan</td>\n",
       "      <td>AFG</td>\n",
       "    </tr>\n",
       "    <tr>\n",
       "      <th>1</th>\n",
       "      <td>174722</td>\n",
       "      <td>None</td>\n",
       "      <td>None</td>\n",
       "      <td>AFG</td>\n",
       "      <td>Afghanistan</td>\n",
       "      <td>2018-01-01T00:00:00Z</td>\n",
       "      <td>2018</td>\n",
       "      <td>None</td>\n",
       "      <td>% of population</td>\n",
       "      <td>SH.H2O.SMDW.ZS</td>\n",
       "      <td>None</td>\n",
       "      <td>% of urban pop</td>\n",
       "      <td>SH.H2O.SMDW.UR.ZS</td>\n",
       "      <td>None</td>\n",
       "      <td>% of rural pop</td>\n",
       "      <td>SH.H2O.SMDW.RU.ZS</td>\n",
       "      <td>Afghanistan</td>\n",
       "      <td>AFG</td>\n",
       "    </tr>\n",
       "    <tr>\n",
       "      <th>2</th>\n",
       "      <td>174723</td>\n",
       "      <td>None</td>\n",
       "      <td>None</td>\n",
       "      <td>AFG</td>\n",
       "      <td>Afghanistan</td>\n",
       "      <td>2017-01-01T00:00:00Z</td>\n",
       "      <td>2017</td>\n",
       "      <td>None</td>\n",
       "      <td>% of population</td>\n",
       "      <td>SH.H2O.SMDW.ZS</td>\n",
       "      <td>None</td>\n",
       "      <td>% of urban pop</td>\n",
       "      <td>SH.H2O.SMDW.UR.ZS</td>\n",
       "      <td>None</td>\n",
       "      <td>% of rural pop</td>\n",
       "      <td>SH.H2O.SMDW.RU.ZS</td>\n",
       "      <td>Afghanistan</td>\n",
       "      <td>AFG</td>\n",
       "    </tr>\n",
       "    <tr>\n",
       "      <th>3</th>\n",
       "      <td>174724</td>\n",
       "      <td>None</td>\n",
       "      <td>None</td>\n",
       "      <td>AFG</td>\n",
       "      <td>Afghanistan</td>\n",
       "      <td>2016-01-01T00:00:00Z</td>\n",
       "      <td>2016</td>\n",
       "      <td>None</td>\n",
       "      <td>% of population</td>\n",
       "      <td>SH.H2O.SMDW.ZS</td>\n",
       "      <td>None</td>\n",
       "      <td>% of urban pop</td>\n",
       "      <td>SH.H2O.SMDW.UR.ZS</td>\n",
       "      <td>None</td>\n",
       "      <td>% of rural pop</td>\n",
       "      <td>SH.H2O.SMDW.RU.ZS</td>\n",
       "      <td>Afghanistan</td>\n",
       "      <td>AFG</td>\n",
       "    </tr>\n",
       "    <tr>\n",
       "      <th>4</th>\n",
       "      <td>174725</td>\n",
       "      <td>None</td>\n",
       "      <td>None</td>\n",
       "      <td>AFG</td>\n",
       "      <td>Afghanistan</td>\n",
       "      <td>2015-01-01T00:00:00Z</td>\n",
       "      <td>2015</td>\n",
       "      <td>None</td>\n",
       "      <td>% of population</td>\n",
       "      <td>SH.H2O.SMDW.ZS</td>\n",
       "      <td>None</td>\n",
       "      <td>% of urban pop</td>\n",
       "      <td>SH.H2O.SMDW.UR.ZS</td>\n",
       "      <td>None</td>\n",
       "      <td>% of rural pop</td>\n",
       "      <td>SH.H2O.SMDW.RU.ZS</td>\n",
       "      <td>Afghanistan</td>\n",
       "      <td>AFG</td>\n",
       "    </tr>\n",
       "  </tbody>\n",
       "</table>\n",
       "</div>"
      ],
      "text/plain": [
       "   cartodb_id the_geom the_geom_webmercator country_code country_name  \\\n",
       "0      174721     None                 None          AFG  Afghanistan   \n",
       "1      174722     None                 None          AFG  Afghanistan   \n",
       "2      174723     None                 None          AFG  Afghanistan   \n",
       "3      174724     None                 None          AFG  Afghanistan   \n",
       "4      174725     None                 None          AFG  Afghanistan   \n",
       "\n",
       "               datetime  year total            unit1 indicator_code1 urban  \\\n",
       "0  2019-01-01T00:00:00Z  2019  None  % of population  SH.H2O.SMDW.ZS  None   \n",
       "1  2018-01-01T00:00:00Z  2018  None  % of population  SH.H2O.SMDW.ZS  None   \n",
       "2  2017-01-01T00:00:00Z  2017  None  % of population  SH.H2O.SMDW.ZS  None   \n",
       "3  2016-01-01T00:00:00Z  2016  None  % of population  SH.H2O.SMDW.ZS  None   \n",
       "4  2015-01-01T00:00:00Z  2015  None  % of population  SH.H2O.SMDW.ZS  None   \n",
       "\n",
       "            unit2    indicator_code2 rural           unit3    indicator_code3  \\\n",
       "0  % of urban pop  SH.H2O.SMDW.UR.ZS  None  % of rural pop  SH.H2O.SMDW.RU.ZS   \n",
       "1  % of urban pop  SH.H2O.SMDW.UR.ZS  None  % of rural pop  SH.H2O.SMDW.RU.ZS   \n",
       "2  % of urban pop  SH.H2O.SMDW.UR.ZS  None  % of rural pop  SH.H2O.SMDW.RU.ZS   \n",
       "3  % of urban pop  SH.H2O.SMDW.UR.ZS  None  % of rural pop  SH.H2O.SMDW.RU.ZS   \n",
       "4  % of urban pop  SH.H2O.SMDW.UR.ZS  None  % of rural pop  SH.H2O.SMDW.RU.ZS   \n",
       "\n",
       "  rw_country_name rw_country_code  \n",
       "0     Afghanistan             AFG  \n",
       "1     Afghanistan             AFG  \n",
       "2     Afghanistan             AFG  \n",
       "3     Afghanistan             AFG  \n",
       "4     Afghanistan             AFG  "
      ]
     },
     "execution_count": 15,
     "metadata": {},
     "output_type": "execute_result"
    }
   ],
   "source": [
    "t= lmi.Table('e32bdaba-5a72-487c-b640-668adaea2976')\n",
    "t.head()"
   ]
  },
  {
   "cell_type": "code",
   "execution_count": 21,
   "metadata": {},
   "outputs": [
    {
     "name": "stdout",
     "output_type": "stream",
     "text": [
      "https://api.resourcewatch.org/v1/query/e32bdaba-5a72-487c-b640-668adaea2976?sql=%0A%20%20%20%20%20%20%20%20SELECT%0A%20%20%20%20%20%20%20%20%20%20%20%20country_name%20as%20x,%0A%20%20%20%20%20%20%20%20%20%20%20%20total%20as%20y,%0A%20%20%20%20%20%20%20%20FROM%20wat_005a_improved_water_access_edit%0A%20%20%20%20%20%20%20%20WHERE%20total%20%3E=%204%20AND%20total%20%3C=%20101%20AND%20total%20IS%20NOT%20NULL%20AND%20year%20=%202012%0A%20%20%20%20%20%20%20%20ORDER%20BY%20total%20asc%20LIMIT%2050%0A%0A\n"
     ]
    }
   ],
   "source": [
    "# reproduce query\n",
    "sql = f\"\"\"\n",
    "        SELECT\n",
    "            country_name as x,\n",
    "            total as y,\n",
    "        FROM data\n",
    "        WHERE total >= 4 AND total <= 101 AND total IS NOT NULL AND year = 2012\n",
    "        ORDER BY total asc LIMIT 50\n",
    "\n",
    "\"\"\"\n",
    "\n",
    "results = t.query(sql=sql)\n",
    "#results"
   ]
  },
  {
   "cell_type": "code",
   "execution_count": 26,
   "metadata": {},
   "outputs": [
    {
     "name": "stdout",
     "output_type": "stream",
     "text": [
      "https://api.resourcewatch.org/v1/query/e32bdaba-5a72-487c-b640-668adaea2976?sql=%0A%20%20%20%20%20%20%20%20SELECT%0A%20%20%20%20%20%20%20%20%20%20%20%20country_name%20as%20x,%0A%20%20%20%20%20%20%20%20%20%20%20%20total%20as%20y%0A%20%20%20%20%20%20%20%20FROM%20wat_005a_improved_water_access_edit%0A%20%20%20%20%20%20%20%20WHERE%20total%20%3E=%204%20AND%20total%20%3C=%20101%20AND%20total%20IS%20NOT%20NULL%20AND%20year%20=%202012%0A%20%20%20%20%20%20%20%20ORDER%20BY%20total%20asc%20LIMIT%2050%0A%0A\n"
     ]
    }
   ],
   "source": [
    "# reproduce query\n",
    "sql = f\"\"\"\n",
    "        SELECT\n",
    "            country_name as x,\n",
    "            total as y\n",
    "        FROM data\n",
    "        WHERE total >= 4 AND total <= 101 AND total IS NOT NULL AND year = 2012\n",
    "        ORDER BY total asc LIMIT 50\n",
    "\n",
    "\"\"\"\n",
    "\n",
    "results = t.query(sql=sql)\n",
    "#results"
   ]
  },
  {
   "cell_type": "code",
   "execution_count": null,
   "metadata": {},
   "outputs": [],
   "source": [
    "results"
   ]
  },
  {
   "cell_type": "code",
   "execution_count": 29,
   "metadata": {},
   "outputs": [
    {
     "data": {
      "text/plain": [
       "([0,\n",
       "  1,\n",
       "  2,\n",
       "  3,\n",
       "  4,\n",
       "  5,\n",
       "  6,\n",
       "  7,\n",
       "  8,\n",
       "  9,\n",
       "  10,\n",
       "  11,\n",
       "  12,\n",
       "  13,\n",
       "  14,\n",
       "  15,\n",
       "  16,\n",
       "  17,\n",
       "  18,\n",
       "  19,\n",
       "  20,\n",
       "  21,\n",
       "  22,\n",
       "  23,\n",
       "  24,\n",
       "  25,\n",
       "  26,\n",
       "  27,\n",
       "  28,\n",
       "  29,\n",
       "  30,\n",
       "  31,\n",
       "  32,\n",
       "  33,\n",
       "  34,\n",
       "  35,\n",
       "  36,\n",
       "  37,\n",
       "  38,\n",
       "  39,\n",
       "  40,\n",
       "  41,\n",
       "  42,\n",
       "  43,\n",
       "  44,\n",
       "  45,\n",
       "  46,\n",
       "  47,\n",
       "  48,\n",
       "  49],\n",
       " <a list of 50 Text xticklabel objects>)"
      ]
     },
     "execution_count": 29,
     "metadata": {},
     "output_type": "execute_result"
    },
    {
     "data": {
      "image/png": "[encoded data removed]",
      "text/plain": [
       "<Figure size 432x288 with 1 Axes>"
      ]
     },
     "metadata": {
      "needs_background": "light"
     },
     "output_type": "display_data"
    }
   ],
   "source": [
    "plt.bar(results.x,results.y)\n",
    "plt.xticks(rotation=90)"
   ]
  },
  {
   "cell_type": "markdown",
   "metadata": {},
   "source": [
    "#### 3D. Global Water surface change (Map)"
   ]
  },
  {
   "cell_type": "code",
   "execution_count": null,
   "metadata": {},
   "outputs": [],
   "source": [
    "d= lmi.Dataset('6f058503-7384-4a54-b4b5-b1046c84ba21')\n",
    "#d"
   ]
  },
  {
   "cell_type": "markdown",
   "metadata": {},
   "source": [
    "#### 3E. Ground water declining (Map)"
   ]
  },
  {
   "cell_type": "code",
   "execution_count": 30,
   "metadata": {},
   "outputs": [],
   "source": [
    "d= lmi.Dataset('a6d63d85-dc1e-4dba-8df0-c888590f94fb')\n",
    "#d"
   ]
  },
  {
   "cell_type": "markdown",
   "metadata": {},
   "source": [
    "### 4. Oceans\n",
    "#### 4A. Main: Ocean Health Index"
   ]
  },
  {
   "cell_type": "code",
   "execution_count": 31,
   "metadata": {},
   "outputs": [],
   "source": [
    "d= lmi.Dataset('d0b93d79-3391-4590-b4a6-fb741678a746')"
   ]
  },
  {
   "cell_type": "markdown",
   "metadata": {},
   "source": [
    "#### 4B. Mismanaged Plastic Waste (Widget not defined yet)"
   ]
  },
  {
   "cell_type": "code",
   "execution_count": 39,
   "metadata": {},
   "outputs": [],
   "source": [
    "#Plastics\n",
    "d= lmi.Dataset('38e1bdc7-a843-40b8-ac86-2e47ccd896e4')\n",
    "t= lmi.Table('38e1bdc7-a843-40b8-ac86-2e47ccd896e4')"
   ]
  },
  {
   "cell_type": "code",
   "execution_count": 47,
   "metadata": {},
   "outputs": [
    {
     "name": "stdout",
     "output_type": "stream",
     "text": [
      "https://api.resourcewatch.org/v1/query/38e1bdc7-a843-40b8-ac86-2e47ccd896e4?sql=%0A%20%20%20%20%20%20%20%20SELECT%0A%20%20%20%20%20%20%20%20%20%20%20%20area%20as%20x,%0A%20%20%20%20%20%20%20%20%20%20%20%20mpw%20as%20y%0A%20%20%20%20%20%20%20%20FROM%20wat_063_plasticriverinputs%0A%20%20%20%20%20%20%20%20%0A\n"
     ]
    },
    {
     "data": {
      "text/html": [
       "<div>\n",
       "<style scoped>\n",
       "    .dataframe tbody tr th:only-of-type {\n",
       "        vertical-align: middle;\n",
       "    }\n",
       "\n",
       "    .dataframe tbody tr th {\n",
       "        vertical-align: top;\n",
       "    }\n",
       "\n",
       "    .dataframe thead th {\n",
       "        text-align: right;\n",
       "    }\n",
       "</style>\n",
       "<table border=\"1\" class=\"dataframe\">\n",
       "  <thead>\n",
       "    <tr style=\"text-align: right;\">\n",
       "      <th></th>\n",
       "      <th>x</th>\n",
       "      <th>y</th>\n",
       "    </tr>\n",
       "  </thead>\n",
       "  <tbody>\n",
       "    <tr>\n",
       "      <th>0</th>\n",
       "      <td>22500000</td>\n",
       "      <td>21753.300</td>\n",
       "    </tr>\n",
       "    <tr>\n",
       "      <th>1</th>\n",
       "      <td>95100000</td>\n",
       "      <td>506114.000</td>\n",
       "    </tr>\n",
       "    <tr>\n",
       "      <th>2</th>\n",
       "      <td>33500000</td>\n",
       "      <td>56294.600</td>\n",
       "    </tr>\n",
       "    <tr>\n",
       "      <th>3</th>\n",
       "      <td>99200000</td>\n",
       "      <td>349409.000</td>\n",
       "    </tr>\n",
       "    <tr>\n",
       "      <th>4</th>\n",
       "      <td>39700000</td>\n",
       "      <td>199000.000</td>\n",
       "    </tr>\n",
       "    <tr>\n",
       "      <th>...</th>\n",
       "      <td>...</td>\n",
       "      <td>...</td>\n",
       "    </tr>\n",
       "    <tr>\n",
       "      <th>40755</th>\n",
       "      <td>34500000</td>\n",
       "      <td>13.095</td>\n",
       "    </tr>\n",
       "    <tr>\n",
       "      <th>40756</th>\n",
       "      <td>27800000</td>\n",
       "      <td>26.555</td>\n",
       "    </tr>\n",
       "    <tr>\n",
       "      <th>40757</th>\n",
       "      <td>26700000</td>\n",
       "      <td>18.163</td>\n",
       "    </tr>\n",
       "    <tr>\n",
       "      <th>40758</th>\n",
       "      <td>16000000</td>\n",
       "      <td>10.763</td>\n",
       "    </tr>\n",
       "    <tr>\n",
       "      <th>40759</th>\n",
       "      <td>14600000</td>\n",
       "      <td>9.754</td>\n",
       "    </tr>\n",
       "  </tbody>\n",
       "</table>\n",
       "<p>40760 rows × 2 columns</p>\n",
       "</div>"
      ],
      "text/plain": [
       "              x           y\n",
       "0      22500000   21753.300\n",
       "1      95100000  506114.000\n",
       "2      33500000   56294.600\n",
       "3      99200000  349409.000\n",
       "4      39700000  199000.000\n",
       "...         ...         ...\n",
       "40755  34500000      13.095\n",
       "40756  27800000      26.555\n",
       "40757  26700000      18.163\n",
       "40758  16000000      10.763\n",
       "40759  14600000       9.754\n",
       "\n",
       "[40760 rows x 2 columns]"
      ]
     },
     "execution_count": 47,
     "metadata": {},
     "output_type": "execute_result"
    }
   ],
   "source": [
    "# reproduce query\n",
    "# mpw = mismanaged plastic in kg/year\n",
    "# area = catchment area m2\n",
    "sql = f\"\"\"\n",
    "        SELECT\n",
    "            area as x,\n",
    "            mpw as y\n",
    "        FROM data\n",
    "        \n",
    "\"\"\"\n",
    "\n",
    "results = t.query(sql=sql)\n",
    "results"
   ]
  },
  {
   "cell_type": "code",
   "execution_count": 49,
   "metadata": {},
   "outputs": [
    {
     "data": {
      "text/plain": [
       "<matplotlib.collections.PathCollection at 0x7fb63cdd3910>"
      ]
     },
     "execution_count": 49,
     "metadata": {},
     "output_type": "execute_result"
    },
    {
     "data": {
      "image/png": "[encoded data removed]",
      "text/plain": [
       "<Figure size 432x288 with 1 Axes>"
      ]
     },
     "metadata": {
      "needs_background": "light"
     },
     "output_type": "display_data"
    }
   ],
   "source": [
    "plt.scatter(results.x,results.y)"
   ]
  },
  {
   "cell_type": "markdown",
   "metadata": {},
   "source": [
    "#### 4C. Marine protected areas (Filtered to Marine) (Widget not defined yet)"
   ]
  },
  {
   "cell_type": "code",
   "execution_count": null,
   "metadata": {},
   "outputs": [],
   "source": [
    "#MPAs\n",
    "d= lmi.Dataset('2442891a-157a-40e6-9092-ee596e6d30ba')\n",
    "#d"
   ]
  },
  {
   "cell_type": "markdown",
   "metadata": {},
   "source": [
    "#### 4D. Annual Fishing by Year (Widget not defined yet)"
   ]
  },
  {
   "cell_type": "code",
   "execution_count": 32,
   "metadata": {},
   "outputs": [],
   "source": [
    "# Annual Fishing by Year\n",
    "d= lmi.Dataset('cce60f5e-6e3b-4bad-a568-a6613c512c47')\n",
    "#d"
   ]
  }
 ],
 "metadata": {
  "kernelspec": {
   "display_name": "Python 3",
   "language": "python",
   "name": "python3"
  },
  "language_info": {
   "codemirror_mode": {
    "name": "ipython",
    "version": 3
   },
   "file_extension": ".py",
   "mimetype": "text/x-python",
   "name": "python",
   "nbconvert_exporter": "python",
   "pygments_lexer": "ipython3",
   "version": "3.7.4"
  }
 },
 "nbformat": 4,
 "nbformat_minor": 4
}

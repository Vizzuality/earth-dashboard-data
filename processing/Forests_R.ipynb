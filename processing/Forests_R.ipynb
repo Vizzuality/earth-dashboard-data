{
 "cells": [
  {
   "cell_type": "markdown",
   "metadata": {},
   "source": [
    "***This notebook uses an R Kernel***"
   ]
  },
  {
   "cell_type": "markdown",
   "metadata": {},
   "source": [
    "## Carbon source/sink Figure\n",
    "Data comes from [this paper](https://www.nature.com/articles/s41586-020-2035-0#Sec29) and the processing scripts are in [this page](http://www.forestplots.net/data-packages/Hubau-et-al-2020) \n"
   ]
  },
  {
   "cell_type": "code",
   "execution_count": null,
   "metadata": {},
   "outputs": [],
   "source": [
    "library "
   ]
  },
  {
   "cell_type": "code",
   "execution_count": 5,
   "metadata": {},
   "outputs": [
    {
     "ename": "ERROR",
     "evalue": "Error in read.csv(\"41586_2020_2035_MOESM9_ESM.csv\") <- data: target of assignment expands to non-language object\n",
     "output_type": "error",
     "traceback": [
      "Error in read.csv(\"41586_2020_2035_MOESM9_ESM.csv\") <- data: target of assignment expands to non-language object\nTraceback:\n"
     ]
    }
   ],
   "source": [
    "data -> read.csv('41586_2020_2035_MOESM9_ESM.csv')"
   ]
  },
  {
   "cell_type": "code",
   "execution_count": null,
   "metadata": {},
   "outputs": [],
   "source": []
  }
 ],
 "metadata": {
  "kernelspec": {
   "display_name": "R",
   "language": "R",
   "name": "ir"
  },
  "language_info": {
   "codemirror_mode": "r",
   "file_extension": ".r",
   "mimetype": "text/x-r-source",
   "name": "R",
   "pygments_lexer": "r",
   "version": "3.5.1"
  }
 },
 "nbformat": 4,
 "nbformat_minor": 4
}

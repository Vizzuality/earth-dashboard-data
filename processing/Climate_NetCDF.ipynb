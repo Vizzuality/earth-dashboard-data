{
 "cells": [
  {
   "cell_type": "markdown",
   "metadata": {},
   "source": [
    "### Climate projections from NetCDF data (Copernicus Climate)\n",
    "RCP 6.0\\\n",
    "Variable:2m temperature\\\n",
    "Model:GFDL-ESM2G (NOAA, USA)\\\n",
    "Ensemble member:r1i1p1\\\n",
    "Period:200601-201012,\\\n",
    "    202101-202512,\\\n",
    "    203101-203512,\\\n",
    "    204101-204512,\\\n",
    "    205101-205512,\\\n",
    "    206101-206512,\\\n",
    "    207101-207512,\\\n",
    "    208101-208512,\\\n",
    "    209101-209512"
   ]
  },
  {
   "cell_type": "markdown",
   "metadata": {},
   "source": [
    "Other option, checking account: CERA https://cera-www.dkrz.de/WDCC/ui/cerasearch/entry?acronym=CMIP5_Downscaled_GDF_ds01"
   ]
  },
  {
   "cell_type": "code",
   "execution_count": 3,
   "metadata": {},
   "outputs": [],
   "source": [
    "# https://towardsdatascience.com/read-netcdf-data-with-python-901f7ff61648\n",
    "import netCDF4 as nc"
   ]
  },
  {
   "cell_type": "code",
   "execution_count": 9,
   "metadata": {},
   "outputs": [],
   "source": [
    "fn = f'../../../Earth_Dashboard/dataset-projections-cmip5-monthly-single-levels-49913360-4e46-4a1a-9b54-14b04bdc7b38/tas_Amon_GFDL-ESM2G_rcp60_r1i1p1_200601-201012.nc'\n",
    "ds = nc.Dataset(fn)"
   ]
  },
  {
   "cell_type": "code",
   "execution_count": 10,
   "metadata": {},
   "outputs": [
    {
     "name": "stdout",
     "output_type": "stream",
     "text": [
      "<class 'netCDF4._netCDF4.Dataset'>\n",
      "root group (NETCDF3_64BIT_OFFSET data model, file format NETCDF3):\n",
      "    title: NOAA GFDL GFDL-ESM2G, RCP6 (run 1) experiment output for CMIP5 AR5\n",
      "    institute_id: NOAA GFDL\n",
      "    source: GFDL-ESM2G 2010 ocean: TOPAZ (TOPAZ1p2,Tripolar360x210L63); atmosphere: AM2 (AM2p14,M45L24); sea ice: SIS (SISp2,Tripolar360x210L63); land: LM3 (LM3p7_cESM,M45)\n",
      "    contact: gfdl.climate.model.info@noaa.gov\n",
      "    project_id: CMIP5\n",
      "    table_id: Table Amon (31 Jan 2011)\n",
      "    experiment_id: rcp60\n",
      "    realization: 1\n",
      "    modeling_realm: atmos\n",
      "    tracking_id: ba31d233-2b9d-453c-a06e-89a81e399756\n",
      "    Conventions: CF-1.4\n",
      "    references: The GFDL Data Portal (http://nomads.gfdl.noaa.gov/) provides access to NOAA/GFDL's publicly available model input and output data sets. From this web site one can view and download data sets and documentation, including those related to the GFDL coupled models experiments run for the IPCC's 5th Assessment Report and the US CCSP.\n",
      "    comment: GFDL experiment name = ESM2G-HC2_2006-2100_all_rcp60_YC2. PCMDI experiment name = RCP6 (run1). Initial conditions for this experiment were taken from 1 January 2006 of the parent experiment, ESM2G-C2_all_historical_HC2 (historical). Several forcing agents varied during the 95 year duration of the RCP6 experiment based upon the AIM integrated assessment model for the 21st century. The time-varying forcing agents include well-mixed greenhouse gases (CO2, CH4, N2O, halons), tropospheric and stratospheric O3, model-derived aerosol concentrations (sulfate, black and organic carbon, sea salt and dust), and land use transitions. Volcanic  aerosols were zero and solar irradiance varied seasonally based upon late 20th century averages but with no interannual variation. The direct effect of tropospheric aerosols is calculated by the model, but not the indirect effects.\n",
      "    gfdl_experiment_name: ESM2G-HC2_2006-2100_all_rcp60_YC2\n",
      "    creation_date: 2011-11-21T20:41:50Z\n",
      "    model_id: GFDL-ESM2G\n",
      "    branch_time: 52925\n",
      "    experiment: RCP6\n",
      "    forcing: GHG,SD,Oz,LU,SS,BC,MD,OC (GHG includes CO2, CH4, N2O, CFC11, CFC12, HCFC22, CFC113)\n",
      "    frequency: mon\n",
      "    initialization_method: 1\n",
      "    parent_experiment_id: historical\n",
      "    physics_version: 1\n",
      "    product: output1\n",
      "    institution: NOAA GFDL(201 Forrestal Rd, Princeton, NJ, 08540)\n",
      "    history: File was processed by fremetar (GFDL analog of CMOR). TripleID: [exper_id_ulH9HelnbV,realiz_id_1wUb4HV9k8,run_id_WRFiL5EoPK]\n",
      "    parent_experiment_rip: r1i1p1\n",
      "    dimensions(sizes): time(60), lat(90), lon(144), bnds(2)\n",
      "    variables(dimensions): float64 average_DT(time), float64 average_T1(time), float64 average_T2(time), float64 lat(lat), float64 lon(lon), float64 bnds(bnds), float32 tas(time, lat, lon), float64 time(time), float64 time_bnds(time, bnds), float64 height(), float64 lat_bnds(lat, bnds), float64 lon_bnds(lon, bnds)\n",
      "    groups: \n"
     ]
    }
   ],
   "source": [
    "print(ds)"
   ]
  },
  {
   "cell_type": "code",
   "execution_count": 11,
   "metadata": {},
   "outputs": [
    {
     "name": "stdout",
     "output_type": "stream",
     "text": [
      "{'title': 'NOAA GFDL GFDL-ESM2G, RCP6 (run 1) experiment output for CMIP5 AR5', 'institute_id': 'NOAA GFDL', 'source': 'GFDL-ESM2G 2010 ocean: TOPAZ (TOPAZ1p2,Tripolar360x210L63); atmosphere: AM2 (AM2p14,M45L24); sea ice: SIS (SISp2,Tripolar360x210L63); land: LM3 (LM3p7_cESM,M45)', 'contact': 'gfdl.climate.model.info@noaa.gov', 'project_id': 'CMIP5', 'table_id': 'Table Amon (31 Jan 2011)', 'experiment_id': 'rcp60', 'realization': 1, 'modeling_realm': 'atmos', 'tracking_id': 'ba31d233-2b9d-453c-a06e-89a81e399756', 'Conventions': 'CF-1.4', 'references': \"The GFDL Data Portal (http://nomads.gfdl.noaa.gov/) provides access to NOAA/GFDL's publicly available model input and output data sets. From this web site one can view and download data sets and documentation, including those related to the GFDL coupled models experiments run for the IPCC's 5th Assessment Report and the US CCSP.\", 'comment': 'GFDL experiment name = ESM2G-HC2_2006-2100_all_rcp60_YC2. PCMDI experiment name = RCP6 (run1). Initial conditions for this experiment were taken from 1 January 2006 of the parent experiment, ESM2G-C2_all_historical_HC2 (historical). Several forcing agents varied during the 95 year duration of the RCP6 experiment based upon the AIM integrated assessment model for the 21st century. The time-varying forcing agents include well-mixed greenhouse gases (CO2, CH4, N2O, halons), tropospheric and stratospheric O3, model-derived aerosol concentrations (sulfate, black and organic carbon, sea salt and dust), and land use transitions. Volcanic  aerosols were zero and solar irradiance varied seasonally based upon late 20th century averages but with no interannual variation. The direct effect of tropospheric aerosols is calculated by the model, but not the indirect effects.', 'gfdl_experiment_name': 'ESM2G-HC2_2006-2100_all_rcp60_YC2', 'creation_date': '2011-11-21T20:41:50Z', 'model_id': 'GFDL-ESM2G', 'branch_time': '52925', 'experiment': 'RCP6', 'forcing': 'GHG,SD,Oz,LU,SS,BC,MD,OC (GHG includes CO2, CH4, N2O, CFC11, CFC12, HCFC22, CFC113)', 'frequency': 'mon', 'initialization_method': 1, 'parent_experiment_id': 'historical', 'physics_version': 1, 'product': 'output1', 'institution': 'NOAA GFDL(201 Forrestal Rd, Princeton, NJ, 08540)', 'history': 'File was processed by fremetar (GFDL analog of CMOR). TripleID: [exper_id_ulH9HelnbV,realiz_id_1wUb4HV9k8,run_id_WRFiL5EoPK]', 'parent_experiment_rip': 'r1i1p1'}\n"
     ]
    }
   ],
   "source": [
    "print(ds.__dict__)"
   ]
  },
  {
   "cell_type": "code",
   "execution_count": 12,
   "metadata": {},
   "outputs": [
    {
     "name": "stdout",
     "output_type": "stream",
     "text": [
      "<class 'netCDF4._netCDF4.Dimension'> (unlimited): name = 'time', size = 60\n",
      "<class 'netCDF4._netCDF4.Dimension'>: name = 'lat', size = 90\n",
      "<class 'netCDF4._netCDF4.Dimension'>: name = 'lon', size = 144\n",
      "<class 'netCDF4._netCDF4.Dimension'>: name = 'bnds', size = 2\n"
     ]
    }
   ],
   "source": [
    "for dim in ds.dimensions.values():\n",
    "    print(dim)"
   ]
  },
  {
   "cell_type": "code",
   "execution_count": 13,
   "metadata": {},
   "outputs": [
    {
     "name": "stdout",
     "output_type": "stream",
     "text": [
      "<class 'netCDF4._netCDF4.Variable'>\n",
      "float32 tas(time, lat, lon)\n",
      "    long_name: Near-Surface Air Temperature\n",
      "    units: K\n",
      "    valid_range: [100. 400.]\n",
      "    cell_methods: time: mean\n",
      "    coordinates: height\n",
      "    missing_value: 1e+20\n",
      "    _FillValue: 1e+20\n",
      "    standard_name: air_temperature\n",
      "    original_units: deg_k\n",
      "    original_name: t_ref\n",
      "    cell_measures: area: areacella\n",
      "    associated_files: baseURL: http://cmip-pcmdi.llnl.gov/CMIP5/dataLocation areacella: areacella_fx_GFDL-ESM2G_rcp60_r0i0p0.nc\n",
      "unlimited dimensions: time\n",
      "current shape = (60, 90, 144)\n",
      "filling on\n"
     ]
    }
   ],
   "source": [
    "print(ds['tas'])"
   ]
  },
  {
   "cell_type": "code",
   "execution_count": 14,
   "metadata": {},
   "outputs": [],
   "source": [
    "tas = ds['tas'][:]"
   ]
  },
  {
   "cell_type": "code",
   "execution_count": null,
   "metadata": {},
   "outputs": [],
   "source": []
  }
 ],
 "metadata": {
  "kernelspec": {
   "display_name": "Python 3",
   "language": "python",
   "name": "python3"
  },
  "language_info": {
   "codemirror_mode": {
    "name": "ipython",
    "version": 3
   },
   "file_extension": ".py",
   "mimetype": "text/x-python",
   "name": "python",
   "nbconvert_exporter": "python",
   "pygments_lexer": "ipython3",
   "version": "3.7.4"
  }
 },
 "nbformat": 4,
 "nbformat_minor": 4
}

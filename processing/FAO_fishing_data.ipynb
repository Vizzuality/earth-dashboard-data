{
 "cells": [
  {
   "cell_type": "markdown",
   "metadata": {},
   "source": [
    "# FAO data from [report](http://www.fao.org/state-of-fisheries-aquaculture)"
   ]
  },
  {
   "cell_type": "markdown",
   "metadata": {},
   "source": [
    "### Figure 1"
   ]
  },
  {
   "cell_type": "code",
   "execution_count": 4,
   "metadata": {},
   "outputs": [],
   "source": [
    "# from http://www.fao.org/fileadmin/templates/SOFIA/2020/src/js/charts-en/figure-1.js\n",
    "# see figures here http://www.fao.org/state-of-fisheries-aquaculture\n",
    "\n",
    "data = [\n",
    "            {\n",
    "                'name': 'Aquaculture - marine waters',\n",
    "                'color': '#66A6B7',\n",
    "                'marker' : {\n",
    "                  \"symbol\": 'square',\n",
    "                  \"radius\" : 2\n",
    "                  },\n",
    "                'data': [0.344255,0.41508,0.47874,0.557672,0.558129,0.624999,0.579817,0.690465,0.669014,0.726523,0.798575,0.783387,0.867864,0.977939,0.985424,0.997936,1.029019,1.070512,1.183931,1.178685,1.294012,1.386061,1.522861,1.536916,1.598451,1.822559,1.901653,2.19229,2.204811,2.202191,2.35241,2.563669,2.654762,2.857045,2.971121,3.31873,3.720234,4.34763,4.894724,5.058646,5.426237,5.816764,6.510286,7.693359,9.044601,10.799168,11.233915,11.121077,11.746484,12.824026,13.725574,14.8424174,15.75194276,16.6107521,17.5033502,18.3410727,19.4874461,20.23761895,20.68098619,21.40441475,21.80127862,22.68578699,23.90601824,24.82340773,26.17869557,27.00067419,28.52633644,29.99448355,30.75618933\n",
    "                ]\n",
    "            },{\n",
    "                'name': 'Aquaculture - inland waters',\n",
    "                'color': '#005F7E',\n",
    "                'marker' : {\n",
    "                  \"symbol\": 'square',\n",
    "                  \"radius\" : 2\n",
    "                  },\n",
    "                'data': [0.259566,0.313714,0.343443,0.404618,0.532382,0.592564,0.629517,0.870307,0.85022,0.92502,0.856746,0.74101,0.710777,0.783763,0.861825,1.022718,1.054716,1.073674,1.097975,1.182558,1.27293,1.352637,1.431332,1.543929,1.659368,1.794601,1.82795,1.929845,1.999682,2.139247,2.353601,2.679458,3.016928,3.366413,3.973463,4.703235,5.443778,6.218003,6.787141,7.260152,7.658796,7.909689,8.899592,10.105928,11.795354,13.583299,15.307344,16.200674,16.666078,17.907134,18.692153,19.771364,21.034301,22.302466,24.4056681,25.95695328,27.76938125,29.70341721,32.234017,33.75255671,35.94266273,37.10295192,39.57411613,42.12826269,44.32722607,45.77063075,47.9774071,49.55039246,51.33886443\n",
    "                ]\n",
    "            },{\n",
    "                'name': 'Capture fisheries - marine waters',\n",
    "                'color': '#F1903F',\n",
    "                'marker' : {\n",
    "                  \"symbol\": 'square',\n",
    "                  \"radius\" : 2\n",
    "                  },\n",
    "                'data': [16.80364,19.085344,20.763018,20.872638,22.586266,23.783022,25.461157,25.638531,26.256604,28.634209,30.853118,34.292203,37.419402,38.662719,42.931859,43.695212,47.540143,50.732763,53.870564,52.410535,58.212572,57.998088,53.753085,54.147686,57.394235,56.900265,60.414848,58.918884,61.162352,61.594218,62.110457,64.099853,65.771188,65.496641,70.961202,72.634588,77.830428,78.299929,81.675565,82.110966,78.224927,77.454159,79.000564,80.002904,85.417792,84.959771,86.361012,85.697293,78.021201,83.460467,84.970881,82.240094,82.667599,79.686241,84.186044,83.052019,80.363456,80.406649,79.331142,78.725767,76.264612,81.122213,77.753302,78.817518,79.334023,80.507214,78.272077,81.20802564,84.41238046\n",
    "                ]\n",
    "            },{\n",
    "                'name': 'Capture fisheries - inland waters',\n",
    "                'color': '#B43F3C',\n",
    "                'marker' : {\n",
    "                    \"symbol\" : 'square',\n",
    "                    \"radius\": 2\n",
    "                    },\n",
    "                'data': [\n",
    "                    1.912147,2.077742,2.212191,2.544842,2.776258,2.971212,2.996048,2.961566,2.934613,2.954383,3.070662,3.421598,3.624989,3.431361,3.749615,3.966483,3.985038,4.135249,4.331992,4.389499,4.624575,4.805461,4.870525,5.019704,4.954206,4.958956,4.829023,4.988837,4.869535,4.894907,5.101606,5.307135,5.314677,5.565147,5.707282,5.614994,5.926605,6.061599,6.161449,6.214446,6.438603,6.255424,6.200869,6.579311,6.711134,7.291699,7.45537,7.483537,7.833871,8.265348,8.593411,8.552035,8.408587,8.612224,8.669581,9.427784,9.826768,10.074424,10.161143,10.328045,10.863861,10.502636,10.881033,10.915448,11.045069,11.149444,11.365382,11.908111,12.02138258\n",
    "                ]\n",
    "            }\n",
    "        ]"
   ]
  },
  {
   "cell_type": "code",
   "execution_count": 5,
   "metadata": {},
   "outputs": [
    {
     "data": {
      "text/plain": [
       "[{'label': 'Aquaculture - marine waters',\n",
       "  'key': 'Aquaculture - marine waters',\n",
       "  'color': '#66A6B7',\n",
       "  'year': 1950,\n",
       "  'value': 0.344255},\n",
       " {'label': 'Aquaculture - marine waters',\n",
       "  'key': 'Aquaculture - marine waters',\n",
       "  'color': '#66A6B7',\n",
       "  'year': 1951,\n",
       "  'value': 0.41508},\n",
       " {'label': 'Aquaculture - marine waters',\n",
       "  'key': 'Aquaculture - marine waters',\n",
       "  'color': '#66A6B7',\n",
       "  'year': 1952,\n",
       "  'value': 0.47874}]"
      ]
     },
     "execution_count": 5,
     "metadata": {},
     "output_type": "execute_result"
    }
   ],
   "source": [
    "# parse into a more friendly structure\n",
    "# looks time series in years from 1950\n",
    "from slugify import slugify\n",
    "\n",
    "parsed_data = []\n",
    "for el in data:\n",
    "  time_series = el['data']\n",
    "  label = el['name']\n",
    "  key = label ## much easier to handle slugs that text\n",
    "  col = el['color']\n",
    "\n",
    "  for i,val in enumerate(time_series):\n",
    "    parsed_data += [{\n",
    "        'label': label,\n",
    "        'key': key,\n",
    "        'color': col,\n",
    "        'year': 1950 + i, ## data starts at 1950\n",
    "        'value': val\n",
    "    }]\n",
    "\n",
    "parsed_data[:3]"
   ]
  },
  {
   "cell_type": "code",
   "execution_count": 6,
   "metadata": {},
   "outputs": [
    {
     "data": {
      "text/html": [
       "<div>\n",
       "<style scoped>\n",
       "    .dataframe tbody tr th:only-of-type {\n",
       "        vertical-align: middle;\n",
       "    }\n",
       "\n",
       "    .dataframe tbody tr th {\n",
       "        vertical-align: top;\n",
       "    }\n",
       "\n",
       "    .dataframe thead th {\n",
       "        text-align: right;\n",
       "    }\n",
       "</style>\n",
       "<table border=\"1\" class=\"dataframe\">\n",
       "  <thead>\n",
       "    <tr style=\"text-align: right;\">\n",
       "      <th></th>\n",
       "      <th>label</th>\n",
       "      <th>key</th>\n",
       "      <th>color</th>\n",
       "      <th>year</th>\n",
       "      <th>value</th>\n",
       "    </tr>\n",
       "  </thead>\n",
       "  <tbody>\n",
       "    <tr>\n",
       "      <th>0</th>\n",
       "      <td>Aquaculture - marine waters</td>\n",
       "      <td>Aquaculture - marine waters</td>\n",
       "      <td>#66A6B7</td>\n",
       "      <td>1950</td>\n",
       "      <td>0.344255</td>\n",
       "    </tr>\n",
       "    <tr>\n",
       "      <th>1</th>\n",
       "      <td>Aquaculture - marine waters</td>\n",
       "      <td>Aquaculture - marine waters</td>\n",
       "      <td>#66A6B7</td>\n",
       "      <td>1951</td>\n",
       "      <td>0.415080</td>\n",
       "    </tr>\n",
       "    <tr>\n",
       "      <th>2</th>\n",
       "      <td>Aquaculture - marine waters</td>\n",
       "      <td>Aquaculture - marine waters</td>\n",
       "      <td>#66A6B7</td>\n",
       "      <td>1952</td>\n",
       "      <td>0.478740</td>\n",
       "    </tr>\n",
       "    <tr>\n",
       "      <th>3</th>\n",
       "      <td>Aquaculture - marine waters</td>\n",
       "      <td>Aquaculture - marine waters</td>\n",
       "      <td>#66A6B7</td>\n",
       "      <td>1953</td>\n",
       "      <td>0.557672</td>\n",
       "    </tr>\n",
       "    <tr>\n",
       "      <th>4</th>\n",
       "      <td>Aquaculture - marine waters</td>\n",
       "      <td>Aquaculture - marine waters</td>\n",
       "      <td>#66A6B7</td>\n",
       "      <td>1954</td>\n",
       "      <td>0.558129</td>\n",
       "    </tr>\n",
       "  </tbody>\n",
       "</table>\n",
       "</div>"
      ],
      "text/plain": [
       "                         label                          key    color  year  \\\n",
       "0  Aquaculture - marine waters  Aquaculture - marine waters  #66A6B7  1950   \n",
       "1  Aquaculture - marine waters  Aquaculture - marine waters  #66A6B7  1951   \n",
       "2  Aquaculture - marine waters  Aquaculture - marine waters  #66A6B7  1952   \n",
       "3  Aquaculture - marine waters  Aquaculture - marine waters  #66A6B7  1953   \n",
       "4  Aquaculture - marine waters  Aquaculture - marine waters  #66A6B7  1954   \n",
       "\n",
       "      value  \n",
       "0  0.344255  \n",
       "1  0.415080  \n",
       "2  0.478740  \n",
       "3  0.557672  \n",
       "4  0.558129  "
      ]
     },
     "execution_count": 6,
     "metadata": {},
     "output_type": "execute_result"
    }
   ],
   "source": [
    "import pandas as pd\n",
    "\n",
    "df = pd.DataFrame.from_dict(parsed_data, orient='columns') ##  orient='columns' because it's a list-like structure\n",
    "df.head()"
   ]
  },
  {
   "cell_type": "code",
   "execution_count": 7,
   "metadata": {},
   "outputs": [
    {
     "data": {
      "text/plain": [
       "['Capture fisheries - inland waters',\n",
       " 'Capture fisheries - marine waters',\n",
       " 'Aquaculture - inland waters',\n",
       " 'Aquaculture - marine waters']"
      ]
     },
     "execution_count": 7,
     "metadata": {},
     "output_type": "execute_result"
    }
   ],
   "source": [
    "## Get unique keys\n",
    "keys = list(df.key.unique())[::-1] ## [::-1] puts it in reverse order (so it's the same as the chart)\n",
    "keys"
   ]
  },
  {
   "cell_type": "code",
   "execution_count": 8,
   "metadata": {},
   "outputs": [
    {
     "data": {
      "text/plain": [
       "['#B43F3C', '#F1903F', '#005F7E', '#66A6B7']"
      ]
     },
     "execution_count": 8,
     "metadata": {},
     "output_type": "execute_result"
    }
   ],
   "source": [
    "## get the matching colours\n",
    "colors = [list(df[df.key == key].color.unique())[0] for key in keys] ## list comprehension: \n",
    "colors  "
   ]
  },
  {
   "cell_type": "code",
   "execution_count": 9,
   "metadata": {},
   "outputs": [
    {
     "data": {
      "text/plain": [
       "(1950, 2018)"
      ]
     },
     "execution_count": 9,
     "metadata": {},
     "output_type": "execute_result"
    }
   ],
   "source": [
    "## Get years list and sort (ascending)\n",
    "years = sorted(list(df.year.unique()))\n",
    "years[0], years[-1]"
   ]
  },
  {
   "cell_type": "code",
   "execution_count": 10,
   "metadata": {},
   "outputs": [
    {
     "data": {
      "text/plain": [
       "<Figure size 640x480 with 1 Axes>"
      ]
     },
     "metadata": {},
     "output_type": "display_data"
    }
   ],
   "source": [
    "import matplotlib.pyplot as plt\n",
    "import numpy as np\n",
    "from copy import copy, deepcopy\n",
    "\n",
    "## Your x and y axis values\n",
    "\n",
    "x = deepcopy(years) ## make a copy of years and assign to x\n",
    "y=[list(df[df.key == key].value) for key in keys] ## Another list comprehension: get the list of values (df.value column) for each key.\n",
    "                                                  ## returns a list of lists which will be stacked bottom-up\n",
    "# Basic stacked area chart.\n",
    "plt.stackplot(x,y, labels=keys, colors=colors)\n",
    "plt.legend(loc='upper left')\n",
    "plt.show()\n",
    "plt.savefig(f'../../../Earth_Dashboard/FAO_Fig1.svg',dpi=300,transparent=True,format='svg')"
   ]
  },
  {
   "cell_type": "markdown",
   "metadata": {},
   "source": [
    "### Figure 19"
   ]
  },
  {
   "cell_type": "code",
   "execution_count": 12,
   "metadata": {},
   "outputs": [],
   "source": [
    "# data from http://www.fao.org/fileadmin/templates/SOFIA/2020/src/js/charts-en/figure-19.js\n",
    "\n",
    "new_data = [{\n",
    "            \"name\": 'Overfished',\n",
    "            \"label\" : 'Biologically unsustainable',\n",
    "            \"color\": '#F19235',\n",
    "            \"showInLegend\": False,\n",
    "            \"marker\" : {\n",
    "                \"symbol\": 'square',\n",
    "                \"radius\" : 2\n",
    "                },\n",
    "            \"data\": [10,8.54,13.02,13.58,16.67,18.18,24.32,26.63,18.13,23.22,25.68,23.03,27.21,23.61,27.63,32.98,30.45,28.92,32,33.33,34.15]\n",
    "        },{\n",
    "            \"name\": 'Maximally sustainably fished',\n",
    "            \"label\" : 'Biologically Sustainable',\n",
    "            \"color\": '#0088A2',\n",
    "            \"showInLegend\": False,\n",
    "            \"marker\" : {\n",
    "                \"symbol\":'square',\n",
    "                \"radius\" : 2 \n",
    "                },\n",
    "            \"data\": [50.77,50.61,49.7,48.77,52.67,50.27,43.24,41.85,49.45,46.45,43.69,50.84,47.91,53.86,52.37,53.62,58.01,61.27,57.56,59.45,59.62]\n",
    "        },{\n",
    "            \"name\": 'Underfished',\n",
    "            \"label\" : 'Biologically Sustainable',\n",
    "            \"color\": '#0088A2',\n",
    "            \"lineColor\":'#FFFFFF',\n",
    "            \"showInLegend\": False,\n",
    "            \"marker\" : {\n",
    "                \"symbol\": 'square',\n",
    "                \"radius\" : 2\n",
    "                },\n",
    "            \"data\": [39.23,40.85,37.28,37.65,30.67,31.55,32.43,31.52,32.42,30.33,30.63,26.12,24.88,22.53,20,13.4,11.55,9.8,10.44,7.21,6.23]\n",
    "        }]"
   ]
  },
  {
   "cell_type": "code",
   "execution_count": 13,
   "metadata": {},
   "outputs": [],
   "source": [
    "new_years= ['1974','1978','1979','1981','1983','1985','1987','1989','1990','1992','1995','1997','2000','2004','2006','2008','2009','2011','2013','2015','2017']\n",
    "new_years =list(map(int,new_years))"
   ]
  },
  {
   "cell_type": "code",
   "execution_count": 15,
   "metadata": {},
   "outputs": [
    {
     "data": {
      "text/plain": [
       "[{'label': 'Overfished',\n",
       "  'key': 'Overfished',\n",
       "  'color': '#F19235',\n",
       "  'year': 1974,\n",
       "  'value': 10},\n",
       " {'label': 'Overfished',\n",
       "  'key': 'Overfished',\n",
       "  'color': '#F19235',\n",
       "  'year': 1978,\n",
       "  'value': 8.54},\n",
       " {'label': 'Overfished',\n",
       "  'key': 'Overfished',\n",
       "  'color': '#F19235',\n",
       "  'year': 1979,\n",
       "  'value': 13.02}]"
      ]
     },
     "execution_count": 15,
     "metadata": {},
     "output_type": "execute_result"
    }
   ],
   "source": [
    "# parse into a more friendly structure\n",
    "# looks time series in years from 1950\n",
    "from slugify import slugify\n",
    "\n",
    "parsed_data = []\n",
    "for el in new_data:\n",
    "  time_series = el['data']\n",
    "  label = el['name']\n",
    "  key = label ## much easier to handle slugs that text\n",
    "  col = el['color']\n",
    "\n",
    "  for i,val in enumerate(time_series):\n",
    "    parsed_data += [{\n",
    "        'label': label,\n",
    "        'key': key,\n",
    "        'color': col,\n",
    "        'year': new_years[i], ## data starts at 1950\n",
    "        'value': val\n",
    "    }]\n",
    "\n",
    "parsed_data[:3]"
   ]
  },
  {
   "cell_type": "code",
   "execution_count": 16,
   "metadata": {},
   "outputs": [
    {
     "data": {
      "text/html": [
       "<div>\n",
       "<style scoped>\n",
       "    .dataframe tbody tr th:only-of-type {\n",
       "        vertical-align: middle;\n",
       "    }\n",
       "\n",
       "    .dataframe tbody tr th {\n",
       "        vertical-align: top;\n",
       "    }\n",
       "\n",
       "    .dataframe thead th {\n",
       "        text-align: right;\n",
       "    }\n",
       "</style>\n",
       "<table border=\"1\" class=\"dataframe\">\n",
       "  <thead>\n",
       "    <tr style=\"text-align: right;\">\n",
       "      <th></th>\n",
       "      <th>label</th>\n",
       "      <th>key</th>\n",
       "      <th>color</th>\n",
       "      <th>year</th>\n",
       "      <th>value</th>\n",
       "    </tr>\n",
       "  </thead>\n",
       "  <tbody>\n",
       "    <tr>\n",
       "      <th>0</th>\n",
       "      <td>Overfished</td>\n",
       "      <td>Overfished</td>\n",
       "      <td>#F19235</td>\n",
       "      <td>1974</td>\n",
       "      <td>10.00</td>\n",
       "    </tr>\n",
       "    <tr>\n",
       "      <th>1</th>\n",
       "      <td>Overfished</td>\n",
       "      <td>Overfished</td>\n",
       "      <td>#F19235</td>\n",
       "      <td>1978</td>\n",
       "      <td>8.54</td>\n",
       "    </tr>\n",
       "    <tr>\n",
       "      <th>2</th>\n",
       "      <td>Overfished</td>\n",
       "      <td>Overfished</td>\n",
       "      <td>#F19235</td>\n",
       "      <td>1979</td>\n",
       "      <td>13.02</td>\n",
       "    </tr>\n",
       "    <tr>\n",
       "      <th>3</th>\n",
       "      <td>Overfished</td>\n",
       "      <td>Overfished</td>\n",
       "      <td>#F19235</td>\n",
       "      <td>1981</td>\n",
       "      <td>13.58</td>\n",
       "    </tr>\n",
       "    <tr>\n",
       "      <th>4</th>\n",
       "      <td>Overfished</td>\n",
       "      <td>Overfished</td>\n",
       "      <td>#F19235</td>\n",
       "      <td>1983</td>\n",
       "      <td>16.67</td>\n",
       "    </tr>\n",
       "  </tbody>\n",
       "</table>\n",
       "</div>"
      ],
      "text/plain": [
       "        label         key    color  year  value\n",
       "0  Overfished  Overfished  #F19235  1974  10.00\n",
       "1  Overfished  Overfished  #F19235  1978   8.54\n",
       "2  Overfished  Overfished  #F19235  1979  13.02\n",
       "3  Overfished  Overfished  #F19235  1981  13.58\n",
       "4  Overfished  Overfished  #F19235  1983  16.67"
      ]
     },
     "execution_count": 16,
     "metadata": {},
     "output_type": "execute_result"
    }
   ],
   "source": [
    "import pandas as pd\n",
    "\n",
    "df = pd.DataFrame.from_dict(parsed_data, orient='columns') ##  orient='columns' because it's a list-like structure\n",
    "df.head()"
   ]
  },
  {
   "cell_type": "code",
   "execution_count": 17,
   "metadata": {},
   "outputs": [
    {
     "data": {
      "text/plain": [
       "['Underfished', 'Maximally sustainably fished', 'Overfished']"
      ]
     },
     "execution_count": 17,
     "metadata": {},
     "output_type": "execute_result"
    }
   ],
   "source": [
    "## Get unique keys\n",
    "keys = list(df.key.unique())[::-1] ## [::-1] puts it in reverse order (so it's the same as the chart)\n",
    "keys"
   ]
  },
  {
   "cell_type": "code",
   "execution_count": 18,
   "metadata": {},
   "outputs": [
    {
     "data": {
      "text/plain": [
       "['#0088A2', '#0088A2', '#F19235']"
      ]
     },
     "execution_count": 18,
     "metadata": {},
     "output_type": "execute_result"
    }
   ],
   "source": [
    "## get the matching colours\n",
    "colors = [list(df[df.key == key].color.unique())[0] for key in keys] ## list comprehension: \n",
    "colors     "
   ]
  },
  {
   "cell_type": "code",
   "execution_count": 19,
   "metadata": {},
   "outputs": [
    {
     "data": {
      "text/plain": [
       "(1974, 2017)"
      ]
     },
     "execution_count": 19,
     "metadata": {},
     "output_type": "execute_result"
    }
   ],
   "source": [
    "## Get years list and sort (ascending)\n",
    "years = sorted(list(df.year.unique()))\n",
    "years[0], years[-1]"
   ]
  },
  {
   "cell_type": "code",
   "execution_count": 21,
   "metadata": {},
   "outputs": [
    {
     "data": {
      "image/png": "[encoded data removed]",
      "text/plain": [
       "<Figure size 432x288 with 1 Axes>"
      ]
     },
     "metadata": {
      "needs_background": "light"
     },
     "output_type": "display_data"
    },
    {
     "data": {
      "text/plain": [
       "<Figure size 432x288 with 0 Axes>"
      ]
     },
     "metadata": {},
     "output_type": "display_data"
    }
   ],
   "source": [
    "import matplotlib.pyplot as plt\n",
    "import numpy as np\n",
    "from copy import copy, deepcopy\n",
    "\n",
    "## Your x and y axis values\n",
    "\n",
    "x = deepcopy(years) ## make a copy of years and assign to x\n",
    "y=[list(df[df.key == key].value) for key in keys] ## Another list comprehension: get the list of values (df.value column) for each key.\n",
    "                                                  ## returns a list of lists which will be stacked bottom-up\n",
    "# Basic stacked area chart.\n",
    "plt.stackplot(x,y, labels=keys, colors=colors)\n",
    "#plt.legend(loc='upper left')\n",
    "plt.show()\n",
    "plt.savefig(f'../../../Earth_Dashboard/FAO_Fig19.svg',dpi=300,transparent=True,format='svg')"
   ]
  },
  {
   "cell_type": "code",
   "execution_count": null,
   "metadata": {},
   "outputs": [],
   "source": []
  }
 ],
 "metadata": {
  "kernelspec": {
   "display_name": "Python 3",
   "language": "python",
   "name": "python3"
  },
  "language_info": {
   "codemirror_mode": {
    "name": "ipython",
    "version": 3
   },
   "file_extension": ".py",
   "mimetype": "text/x-python",
   "name": "python",
   "nbconvert_exporter": "python",
   "pygments_lexer": "ipython3",
   "version": "3.7.4"
  }
 },
 "nbformat": 4,
 "nbformat_minor": 4
}
